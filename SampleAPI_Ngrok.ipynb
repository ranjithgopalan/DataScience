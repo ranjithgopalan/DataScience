{
  "nbformat": 4,
  "nbformat_minor": 0,
  "metadata": {
    "colab": {
      "name": "SampleAPI_Ngrok.ipynb",
      "provenance": [],
      "private_outputs": true,
      "include_colab_link": true
    },
    "kernelspec": {
      "name": "python3",
      "display_name": "Python 3"
    }
  },
  "cells": [
    {
      "cell_type": "markdown",
      "metadata": {
        "id": "view-in-github",
        "colab_type": "text"
      },
      "source": [
        "<a href=\"https://colab.research.google.com/github/ranjithgopalan/DataScience/blob/Beta/SampleAPI_Ngrok.ipynb\" target=\"_parent\"><img src=\"https://colab.research.google.com/assets/colab-badge.svg\" alt=\"Open In Colab\"/></a>"
      ]
    },
    {
      "cell_type": "code",
      "metadata": {
        "id": "wZD6uoV8NiwZ",
        "colab_type": "code",
        "colab": {}
      },
      "source": [
        "!pip install pyngrok\n",
        "! ngrok authtoken 1cKSEORsOiRrA4fq0mkwn18jTP8_2RGyx7cSCog86kjFr8umx\n",
        "# !pip install Dash"
      ],
      "execution_count": 0,
      "outputs": []
    },
    {
      "cell_type": "code",
      "metadata": {
        "id": "Fl4Xgq7-NmbF",
        "colab_type": "code",
        "colab": {}
      },
      "source": [
        "from pyngrok import ngrok\n",
        "ngrok.disconnect\n",
        "url1 = ngrok.connect(port ='8051',region=\"us\", options={\"subdomain\": \"clinicalservice\" }) #, \"auth\": \"username:password\"\n",
        "print(url1)"
      ],
      "execution_count": 0,
      "outputs": []
    },
    {
      "cell_type": "code",
      "metadata": {
        "id": "EaLflC5bNWSX",
        "colab_type": "code",
        "colab": {}
      },
      "source": [
        "\n",
        "# import dash\n",
        "# app = dash.Dash(__name__)\n",
        "# server = app.server\n",
        "\n",
        "# import flask\n",
        "# server = flask.Flask(__name__)\n",
        "# app = dash.Dash(__name__, server=server)\n",
        "\n",
        "from flask import Flask\n",
        "app = Flask(__name__)\n",
        "\n",
        "\n",
        "@app.route(\"/test\")\n",
        "def hello_world():\n",
        "  return \"Hello, World!\"\n"
      ],
      "execution_count": 0,
      "outputs": []
    },
    {
      "cell_type": "markdown",
      "metadata": {
        "id": "KS0ncu9AR8gn",
        "colab_type": "text"
      },
      "source": [
        ""
      ]
    },
    {
      "cell_type": "code",
      "metadata": {
        "id": "mYUlSvGrN91T",
        "colab_type": "code",
        "colab": {}
      },
      "source": [
        "if __name__ == '__main__':\n",
        "    app.run(host='127.0.0.1', port='8051', debug=False)"
      ],
      "execution_count": 0,
      "outputs": []
    }
  ]
}