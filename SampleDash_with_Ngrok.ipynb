{
  "nbformat": 4,
  "nbformat_minor": 0,
  "metadata": {
    "colab": {
      "name": "SampleDash_with_Ngrok.ipynb",
      "provenance": [],
      "private_outputs": true,
      "machine_shape": "hm",
      "authorship_tag": "ABX9TyPjGJY4cjMXX5xEzvYmYr6t",
      "include_colab_link": true
    },
    "kernelspec": {
      "name": "python3",
      "display_name": "Python 3"
    },
    "accelerator": "TPU"
  },
  "cells": [
    {
      "cell_type": "markdown",
      "metadata": {
        "id": "view-in-github",
        "colab_type": "text"
      },
      "source": [
        "<a href=\"https://colab.research.google.com/github/ranjithgopalan/DataScience/blob/Beta/SampleDash_with_Ngrok.ipynb\" target=\"_parent\"><img src=\"https://colab.research.google.com/assets/colab-badge.svg\" alt=\"Open In Colab\"/></a>"
      ]
    },
    {
      "cell_type": "code",
      "metadata": {
        "id": "tvE-4ME3MED2",
        "colab_type": "code",
        "colab": {}
      },
      "source": [
        "!pip install dash\n",
        "!pip install pyngrok"
      ],
      "execution_count": 0,
      "outputs": []
    },
    {
      "cell_type": "code",
      "metadata": {
        "id": "wUlQvrU0KDBA",
        "colab_type": "code",
        "colab": {}
      },
      "source": [
        "! ngrok authtoken 1cKSEORsOiRrA4fq0mkwn18jTP8_2RGyx7cSCog86kjFr8umx"
      ],
      "execution_count": 0,
      "outputs": []
    },
    {
      "cell_type": "code",
      "metadata": {
        "id": "zP0UHCb7r1-8",
        "colab_type": "code",
        "colab": {}
      },
      "source": [
        "from pyngrok import ngrok\n",
        "ngrok.disconnect\n",
        "url1 = ngrok.connect(port ='8051',region=\"us\", options={\"subdomain\": \"clinicalservice\" }) #, \"auth\": \"username:password\"\n",
        "url2 = ngrok.connect(port ='8051',region=\"us\", options={\"subdomain\": \"Mastersdatascience\" })\n",
        "\n",
        "\n",
        "print(url1,url2)"
      ],
      "execution_count": 0,
      "outputs": []
    },
    {
      "cell_type": "code",
      "metadata": {
        "id": "7Q4ZcUSbtHNB",
        "colab_type": "code",
        "colab": {}
      },
      "source": [
        ""
      ],
      "execution_count": 0,
      "outputs": []
    },
    {
      "cell_type": "code",
      "metadata": {
        "id": "H8lZue7_MOgr",
        "colab_type": "code",
        "colab": {}
      },
      "source": [
        "import dash\n",
        "import dash_core_components as dcc\n",
        "import dash_html_components as html\n",
        "import math\n",
        "import json\n",
        "import requests\n",
        "\n",
        "app = dash.Dash()\n",
        "\n",
        "app.layout = html.Div(children=[\n",
        "    html.H1(children='Hello Dash'),\n",
        "\n",
        "    html.Div(children='''\n",
        "        Dash: A web application framework for Python.\n",
        "    '''),\n",
        "\n",
        "    dcc.Graph(\n",
        "        id='example-graph',\n",
        "        figure={\n",
        "            'data': [\n",
        "                {'x': [1, 2, 3], 'y': [4, 1, 2], 'type': 'bar', 'name': 'SF'},\n",
        "                {'x': [1, 2, 3], 'y': [2, 4, 5], 'type': 'bar', 'name': u'Montréal'},\n",
        "            ],\n",
        "            'layout': {\n",
        "                'title': 'Dash Data Visualization'\n",
        "            }\n",
        "        }\n",
        "    )\n",
        " ])\n",
        "\n",
        "    "
      ],
      "execution_count": 0,
      "outputs": []
    },
    {
      "cell_type": "code",
      "metadata": {
        "id": "xIqe00B7XGVn",
        "colab_type": "code",
        "colab": {}
      },
      "source": [
        "if __name__ == '__main__':\n",
        "    app.run_server(host='127.0.0.1', port='8051', debug=False)\n",
        "  "
      ],
      "execution_count": 0,
      "outputs": []
    }
  ]
}