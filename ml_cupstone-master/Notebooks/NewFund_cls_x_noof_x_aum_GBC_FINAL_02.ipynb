{
 "cells": [
  {
   "cell_type": "code",
   "execution_count": 1,
   "metadata": {},
   "outputs": [
    {
     "name": "stderr",
     "output_type": "stream",
     "text": [
      "c:\\program files\\python38\\lib\\site-packages\\sklearn\\utils\\deprecation.py:143: FutureWarning: The sklearn.ensemble.forest module is  deprecated in version 0.22 and will be removed in version 0.24. The corresponding classes / functions should instead be imported from sklearn.ensemble. Anything that cannot be imported from sklearn.ensemble is now part of the private API.\n",
      "  warnings.warn(message, FutureWarning)\n"
     ]
    }
   ],
   "source": [
    "import os\n",
    "import numpy as np \n",
    "import pandas as pd\n",
    "import matplotlib.pyplot as plt\n",
    "import matplotlib.gridspec as gridspec\n",
    "import matplotlib.colors as mcolors\n",
    "import seaborn as sns\n",
    "import math\n",
    "import scipy.stats as stats\n",
    "# from scipy.optimize import curve_fit\n",
    "\n",
    "from statsmodels.stats.outliers_influence import variance_inflation_factor\n",
    "from statsmodels.tools.tools import add_constant\n",
    "\n",
    "import sklearn.preprocessing as prep\n",
    "import sklearn.metrics as metrics\n",
    "from sklearn import model_selection\n",
    "\n",
    "from rfpimp import dropcol_importances\n",
    "from rfpimp import importances\n",
    "\n",
    "import pickle"
   ]
  },
  {
   "cell_type": "markdown",
   "metadata": {},
   "source": [
    "## Helper Functions"
   ]
  },
  {
   "cell_type": "markdown",
   "metadata": {},
   "source": [
    "#### Helper functions for plotting"
   ]
  },
  {
   "cell_type": "code",
   "execution_count": 121,
   "metadata": {},
   "outputs": [],
   "source": [
    "def plot_bar_diagram(ax, data, nested=False, plots_labels=None, plots_colors=None, bar_labels='', width=0.4, \n",
    "                     trend_line=False, trend_order=1, trend_color=None, \n",
    "                     title='', length_label='', tick_labels='', tick_axis_label='',\n",
    "                     orient='v', legend_loc=None, spines=None):\n",
    "    \"\"\"\n",
    "    Plots single or multiple bar diagrams with data labels on top(aside) of the bars\n",
    "    :param ax: matplotlib axes\n",
    "    :param data: pandas DataFrame where rows correspond to bar plots and columns correspond to data labels (columns in data)\n",
    "    :param nested: boolean. If True, bar plots are plotted on top of each other. If False bar plots are plotted besides each other\n",
    "    :param bar_labels: pandas DataFrame. labels over the bars. Should be same shape as data\n",
    "    :param width: float. Bar width\n",
    "    :param title: string. Plot title\n",
    "    :param length_label: bar height/width axis label\n",
    "    :param spines: dictionary of booleans. indicates to plot borders or not. Keys=['left', 'right', 'top', 'bottom'], values=True/False\n",
    "    :param orient: string. Bar orientation: 'v'-vertical; 'h'-horisontal\n",
    "    \"\"\"\n",
    "    bars = list(data.index)\n",
    "    cols = list(data.columns)\n",
    "    cells = data.values.tolist()\n",
    "\n",
    "    if bar_labels is not None:\n",
    "        labels = []\n",
    "        for i, lab in enumerate(bars):\n",
    "            if bar_labels=='':\n",
    "                labels.append([f\"{j:.4f}\" for j in cells[i]])\n",
    "            else:\n",
    "                labels.append(bar_labels[i])\n",
    "#             labels = ([f\"{j:.4f}\" for j in cells[i]] if bar_labels=='' else bar_labels[i])\n",
    "\n",
    "    if orient == 'v':\n",
    "        for i, lab in enumerate(bars):\n",
    "            label = (bars[i] if plots_labels is None else plots_labels[i])\n",
    "            color = ('r' if plots_colors is None else plots_colors[i])\n",
    "            x = np.arange(len(cols))\n",
    "            bar = ax.bar(x=x + width * (i - len(bars) / 2), height=cells[i], width=width,\n",
    "                         label=label,\n",
    "                         color=color,\n",
    "                         align=('center' if nested else 'edge'))\n",
    "            \n",
    "            if trend_line:\n",
    "                trend_color = (color if trend_color is None else trend_color[i])\n",
    "                _x = np.arange(len(cols))\n",
    "                _y = cells[i]\n",
    "                _z = np.polyfit(_x, _y, trend_order)\n",
    "                _p = np.poly1d(_z)\n",
    "                trend = ax.plot(_x, _p(_x), color=color, linestyle='--', linewidth=2.5)\n",
    "            \n",
    "            if bar_labels is not None:\n",
    "                autolabel(bar, ax, labels[i], oriented='v')\n",
    "\n",
    "        ax.set_xticks(np.arange(len(cols)))\n",
    "        if tick_labels=='':\n",
    "            ax.set_xticklabels(cols)\n",
    "        else:\n",
    "            ax.set_xticklabels(tick_labels)\n",
    "        if not length_label=='':\n",
    "            ax.set_ylabel(length_label, fontsize=12, fontweight='bold')\n",
    "        if not tick_axis_label=='':\n",
    "            ax.set_xlabel(tick_axis_label, fontsize=12, fontweight='bold')\n",
    "    elif orient == 'h':\n",
    "        for i, lab in enumerate(bars):\n",
    "            label = (bars[i] if plots_labels is None else plots_labels[i])\n",
    "            y = np.arange(len(cols))\n",
    "            height = width\n",
    "            bar = ax.barh(y=y + height * (i - len(bars) / 2), width=cells[i], height=width,\n",
    "                          label=label,\n",
    "                          color=plots_colors[i],\n",
    "                          align=('center' if nested else 'edge'))\n",
    "            \n",
    "            if trend_line:\n",
    "                trend_color = (color if trend_color is None else trend_color[i])\n",
    "                _x = np.arange(len(cols))\n",
    "                _y = cells[i]\n",
    "                _z = np.polyfit(_x, _y, trend_order)\n",
    "                _p = np.poly1d(_z)\n",
    "                trend = ax.plot(_x, _p(_x), color=color, linestyle='--', linewidth=2.5)\n",
    "            \n",
    "            if bar_labels is not None:\n",
    "                autolabel(bar, ax, labels[i], oriented='v')\n",
    "            if bar_labels is not None:\n",
    "                autolabel(bar, ax, labels[i], oriented='h')\n",
    "\n",
    "        ax.set_yticks(np.arange(len(cols)))\n",
    "        if tick_labels=='':\n",
    "            ax.set_yticklabels(cols)\n",
    "        else:\n",
    "            ax.set_yticklabels(tick_labels)\n",
    "        if not length_label=='':\n",
    "            ax.set_xlabel(length_label, fontsize=12, fontweight='bold')\n",
    "        if not tick_axis_label=='':\n",
    "            ax.set_ylabel(tick_axis_label, fontsize=12, fontweight='bold')\n",
    "    else:\n",
    "        raise ValueError('orient parameter value error. expected v or h ')\n",
    "\n",
    "    if not title == '':\n",
    "        ttl = ax.title\n",
    "        ttl.set_position([.5, 1.07])\n",
    "        ax.set_title(title, fontsize=14, fontweight='bold')\n",
    "    if legend_loc is not None:\n",
    "        ax.legend(loc=legend_loc)\n",
    "    else:\n",
    "        ax.legend().set_visible(False)\n",
    "\n",
    "    if spines is None:\n",
    "        spines = {'left': True,\n",
    "                  'right': True,\n",
    "                  'top': True,\n",
    "                  'bottom': True}\n",
    "    for i in list(spines.keys()):\n",
    "        ax.spines[i].set_visible(spines[i])\n",
    "        \n",
    "    ax.grid(True, axis='y')\n",
    "\n",
    "def autolabel(bars, ax, labels, oriented='v'):\n",
    "    \"\"\"Attach a text label displaying its height/width (depends of orientation).\"\"\"\n",
    "    for bar, label in zip(bars, labels):\n",
    "        if oriented == 'v':\n",
    "            height = bar.get_height()\n",
    "            ax.annotate(label,\n",
    "                        xy=(bar.get_x() + bar.get_width() / 2, height),\n",
    "                        xytext=(0, 2),\n",
    "                        textcoords=\"offset points\",\n",
    "                        ha='center')\n",
    "        else:\n",
    "            width = bar.get_width()\n",
    "            ax.annotate(label,\n",
    "                        xy=(width, bar.get_y() + bar.get_height() / 2),\n",
    "                        xytext=(1, 0),\n",
    "                        textcoords=\"offset points\",\n",
    "                        ha='left',\n",
    "                        va='center')\n",
    "\n",
    "def plot_correlation_matrix(ax, data, cmap='hot', diagonal=False, square=True, annotate=False, annot_kwargs=8):\n",
    "    mask = None\n",
    "    if diagonal:\n",
    "        mask = np.zeros_like(data, dtype=np.bool)\n",
    "        mask[np.triu_indices_from(mask)] = True\n",
    "    sns.heatmap(data, ax=ax,\n",
    "                mask=mask,\n",
    "                square=square,\n",
    "                linewidths=1.5,\n",
    "                cmap=cmap,\n",
    "                cbar_kws={'shrink': 1, 'ticks': [-1, -.5, 0, 0.5, 1]},\n",
    "                vmin=-1,\n",
    "                vmax=1,\n",
    "                annot=annotate,\n",
    "                annot_kws={'size': annot_kwargs})\n",
    "    ax.set_xticklabels(ax.get_xticklabels(), rotation=45, horizontalalignment='right')\n",
    "    \n",
    "def plot_confusion_matrix(model, X, y, ax, normalize=True, title=None, xticklabels=None, yticklabels=None):\n",
    "    \"\"\"Plots confusion matrix\n",
    "    Parameters:\n",
    "    ax =  matplotlib axes\n",
    "    normalyze = normalization over truth (number_predicted / total_count_of_this_class)\n",
    "    \"\"\"\n",
    "    conf_matrix = metrics.confusion_matrix(y_true=y, y_pred=model.predict(X),\n",
    "                              labels=None)  # returns matrix for sorted classes (i.e 0, 1, 2,..., n)\n",
    "    classes = y.unique()\n",
    "    classes.sort()\n",
    "    n_classes = [len(y[y == c]) for c in classes]\n",
    "    if normalize == True:\n",
    "        n_matrix = np.array([[i for j in range(len(n_classes))] for i in n_classes])\n",
    "        norm_matrix = conf_matrix / n_matrix\n",
    "        ns_matrix = np.array([[i for j in enumerate(n_classes)] for i in n_classes])\n",
    "        labels = np.array([[\"{0:.2%} \\n {1:d} of {2:d}\".format(norm_matrix[i, j], conf_matrix[i, j],\n",
    "                                                               n_matrix[i, j]) for j, v in enumerate(norm_matrix[i])] for i, v in enumerate(norm_matrix)])\n",
    "        _xticklabels=('auto' if xticklabels is None else xticklabels)\n",
    "        _yticklabels=('auto' if yticklabels is None else yticklabels)\n",
    "        sns.heatmap(norm_matrix, annot=labels, fmt='', cmap='Blues', cbar=False, \n",
    "                    xticklabels=_xticklabels, yticklabels=_yticklabels)\n",
    "    else:\n",
    "        sns.heatmap(conf_matrix, annot=True, fmt='d', cmap='Blues', xticklabels='auto', yticklabels='auto')\n",
    "\n",
    "    ax.set_ylabel('True Labels', fontsize=12, fontweight='bold')\n",
    "    ax.set_xlabel('Predicted Labels', fontsize=12, fontweight='bold')\n",
    "    if title is None:\n",
    "        title = model.__class__.__name__\n",
    "    ax.set_title(title, fontsize=14, fontweight='bold')\n",
    "    ttl = ax.title\n",
    "    ttl.set_position([.5, 1.07])\n",
    "\n",
    "    # fix for mpl bug that cuts off top/bottom of seaborn viz\n",
    "    b, t = ax.get_ylim()  # discover the values for bottom and top\n",
    "    b += 0.5  # Add 0.5 to the bottom\n",
    "    t -= 0.5  # Subtract 0.5 from the top\n",
    "    ax.set_ylim(b, t)  # update the ylim(bottom, top) values\n",
    "    \n",
    "def plot_mae_deciles(model, X, y_true, y_bl, index, ax, log_transform=False, cumulative=False, title=None):\n",
    "    y_pred = np.exp(model.predict(X)) - 1\n",
    "    y_true = np.exp(y_true.values) - 1\n",
    "    y_bl = np.exp(y_bl.values) - 1\n",
    "    y = np.stack([y_pred, y_true], axis=1)\n",
    "    y = pd.DataFrame(y, columns=['predicted_y', 'true_y'])\n",
    "\n",
    "    y['mae_model'] = np.abs(y['true_y'] - y['predicted_y'])\n",
    "    y['mean_y_baseline'] = np.mean(y_bl)\n",
    "    y['mae_naive'] = np.abs(y['true_y'] - y['mean_y_baseline'])\n",
    "    y = y[['mean_y_baseline', 'predicted_y', 'true_y', 'mae_model', 'mae_naive']].sort_values(by='mae_model', ascending=True)\n",
    "    y['deciles'] = pd.qcut(y['mae_model'], 10, labels=False, duplicates='drop')\n",
    "\n",
    "    mae_model = []\n",
    "    mae_naive = []\n",
    "    dec_labs = y['deciles'].unique()\n",
    "    ax.set_xticks(np.arange(len(dec_labs)))\n",
    "    for i in dec_labs:\n",
    "        if cumulative:\n",
    "            mae_model.append(np.mean(y.loc[y['deciles']<=i, 'mae_model']))\n",
    "            mae_naive.append(np.mean(y.loc[y['deciles']<=i, 'mae_naive']))\n",
    "            ax.set_xticklabels(np.arange(10,110,10))\n",
    "            ax.set_xlabel('% of population')\n",
    "            ax.set_ylabel('Mean absolute error \\n (cumulative mean)')\n",
    "        else:\n",
    "            mae_model.append(np.mean(y.loc[y['deciles']==i, 'mae_model']))\n",
    "            mae_naive.append(np.mean(y.loc[y['deciles']==i, 'mae_naive']))\n",
    "            ax.set_xlabel('Deciles')\n",
    "            ax.set_ylabel('Mean absolute error \\n (mean per decile)')\n",
    "    data = np.stack([mae_model, mae_naive], axis=1)\n",
    "    data = pd.DataFrame(data, columns=['mae_model', 'mae_naive'])\n",
    "\n",
    "    _x = data.index\n",
    "    _y = data['mae_model'].values\n",
    "    ax.plot(_x, _y, marker='o', color='b')\n",
    "    \n",
    "    _y = data['mae_naive']\n",
    "    ax.plot(_x, _y, marker='o', color='r')\n",
    "    \n",
    "    ax.legend(['Model predictions', 'Naive predictions'])\n",
    "    spines = {'left': True,\n",
    "              'right': False,\n",
    "              'top': False,\n",
    "              'bottom': True}\n",
    "    for i in list(spines.keys()):\n",
    "        ax.spines[i].set_visible(spines[i])\n",
    "        \n",
    "    if log_transform:\n",
    "        ax.set_yscale('log')\n",
    "    \n",
    "    if title is None:\n",
    "        title = model.__class__.__name__\n",
    "    ax.set_title(title)\n",
    "    ttl = ax.title\n",
    "    ttl.set_position([.5, 1.05])\n",
    "                 \n",
    "    deciles = y['deciles']\n",
    "    if index is not None:\n",
    "        deciles.index = index\n",
    "        \n",
    "    return data, deciles\n",
    "\n",
    "def plot_deciles_data(data, figname='', color='dimgrey', plot_type='bar', trend_line=False, trend_order=1, trend_color='dimgrey', cumulative_pop=False, data_labels=False, x_label=None, y_label=None):\n",
    "    grd = list(data.columns)\n",
    "    grd_n = len(grd)\n",
    "    grd_cols_n = 2\n",
    "    grd_rows_n = int(math.ceil(grd_n / grd_cols_n))\n",
    "\n",
    "    plt_h = 4\n",
    "    plt_w = 12\n",
    "    \n",
    "    fig_ttl = plt.figure()\n",
    "    fig_ttl.set_size_inches(plt_w * grd_cols_n, 0.3)\n",
    "    ax0 = fig_ttl.add_subplot()\n",
    "    ax0.text(0.5, 0.5, figname, fontsize=18, horizontalalignment='center', verticalalignment='center')\n",
    "    ax0.axis('off')\n",
    "\n",
    "    fig = plt.figure()\n",
    "    fig.set_size_inches(plt_w * grd_cols_n, plt_h * grd_rows_n)\n",
    "    gs = gridspec.GridSpec(grd_rows_n, grd_cols_n, figure=fig, wspace=0.3, hspace=0.5)\n",
    "\n",
    "    for idx, col in enumerate(list(data.columns)):\n",
    "        if data_labels:\n",
    "            labs = ['{0:.2f}'.format(i) for i in data[col]]\n",
    "            bar_labels=[labs]\n",
    "        else:\n",
    "            bar_labels=None\n",
    "        \n",
    "        if cumulative_pop:\n",
    "            tick_labels = np.arange(10,110,10)\n",
    "        else:\n",
    "            tick_labels = list(data.index)\n",
    "        \n",
    "        if x_label is not None:\n",
    "            tick_axis_label = x_label\n",
    "        else:\n",
    "            tick_axis_label = ''\n",
    "        if y_label is not None:\n",
    "            length_label = y_label\n",
    "        else:\n",
    "            length_label = col\n",
    "        \n",
    "        if plot_type=='bar':\n",
    "            plot_bar_diagram(ax=fig.add_subplot(gs[idx]),\n",
    "                             data=data[col].to_frame().T,\n",
    "                             bar_labels=bar_labels,\n",
    "                             tick_labels = tick_labels,\n",
    "                             plots_labels=None,\n",
    "                             plots_colors=[color],\n",
    "                             width=0.3,\n",
    "                             trend_line=trend_line, \n",
    "                             trend_order=trend_order, \n",
    "                             trend_color=[trend_color],\n",
    "                             title=None,\n",
    "                             tick_axis_label=tick_axis_label,\n",
    "                             length_label=length_label,\n",
    "                             orient='v',\n",
    "                             spines={'top': False, 'right': False})\n",
    "        elif plot_type=='scatter':\n",
    "            ax=fig.add_subplot(gs[idx])\n",
    "            _x = tick_labels\n",
    "            _y = data[col].values\n",
    "            ax.scatter(_x, _y, marker='o', color=color)\n",
    "            z = np.polyfit(_x, _y, 2)\n",
    "            p = np.poly1d(z)\n",
    "            ax.plot(_x, p(_x), color=color)\n",
    "            \n",
    "def plot_cls_ratio_deciles(models, Xs, ys_true, indexes, ax, by_class=1, cumulative=False, title=None, legend=None, colors=None):\n",
    "    deciles = []\n",
    "    _legend = []\n",
    "    for idx, model in enumerate(models):\n",
    "        y_pred = model.predict(Xs[idx])\n",
    "        y_prob = model.predict_proba(Xs[idx])\n",
    "        y_true = ys_true[idx]\n",
    "\n",
    "        y_byclass = np.stack([y_true, y_pred, y_prob[:,by_class]], axis=1)\n",
    "        y_byclass = pd.DataFrame(y_byclass, index=indexes[idx], columns=['true_y', 'predicted_y', 'proba_y']).sort_values(by='proba_y', ascending=False)\n",
    "        y_dec = np.zeros(len(y_true))\n",
    "        n = len(y_dec) // 10\n",
    "        N = 10 * n\n",
    "        for i in range(0, N, n):\n",
    "            if i==N:\n",
    "                y_dec[i:] = i/n\n",
    "            else:\n",
    "                y_dec[i:i+n] = i/n\n",
    "        y_byclass['deciles'] = y_dec\n",
    "        y_byclass['deciles'] = y_byclass['deciles'].astype('int32')\n",
    "\n",
    "        dec_labs = y_byclass['deciles'].unique()\n",
    "        correct_pred_rate_byclass = []\n",
    "#         correct_pred_rate_othclass = []\n",
    "        for i in dec_labs:\n",
    "            dec_samples = (y_byclass.loc[y_byclass['deciles']<=i] if cumulative else y_byclass.loc[y_byclass['deciles']==i])\n",
    "            n_true_byclass = len(dec_samples.loc[dec_samples['true_y']==by_class])\n",
    "            n_correct_pred_byclass = len(dec_samples.loc[(dec_samples['true_y']==by_class) & (dec_samples['predicted_y']==by_class)])\n",
    "            correct_pred_rate_byclass.append(n_correct_pred_byclass / n_true_byclass)\n",
    "            \n",
    "#             n_true_othclass = len(dec_samples.loc[dec_samples['true_y']!=by_class])\n",
    "#             n_correct_pred_othclass = len(dec_samples.loc[(dec_samples['true_y']!=by_class) & (dec_samples['predicted_y']!=by_class)])\n",
    "#             correct_pred_rate_othclass.append(n_correct_pred_othclass / n_true_othclass)\n",
    "        \n",
    "        y_othclass = np.stack([y_true, y_pred, y_prob[:,np.abs(by_class-1)]], axis=1)\n",
    "        y_othclass = pd.DataFrame(y_othclass, index=indexes[idx], columns=['true_y', 'predicted_y', 'proba_y']).sort_values(by='proba_y', ascending=False)\n",
    "        y_dec = np.zeros(len(y_true))\n",
    "        n = len(y_dec) // 10\n",
    "        N = 10 * n\n",
    "        for i in range(0, N, n):\n",
    "            if i==N:\n",
    "                y_dec[i:] = i/n\n",
    "            else:\n",
    "                y_dec[i:i+n] = i/n\n",
    "        y_othclass['deciles'] = y_dec\n",
    "        y_othclass['deciles'] = y_othclass['deciles'].astype('int32')\n",
    "\n",
    "        dec_labs = y_othclass['deciles'].unique()\n",
    "#         correct_pred_rate_byclass = []\n",
    "        correct_pred_rate_othclass = []\n",
    "        for i in dec_labs:\n",
    "            dec_samples = (y_othclass.loc[y_othclass['deciles']<=i] if cumulative else y_othclass.loc[y_othclass['deciles']==i])\n",
    "#             n_true_byclass = len(dec_samples.loc[dec_samples['true_y']==by_class])\n",
    "#             n_correct_pred_byclass = len(dec_samples.loc[(dec_samples['true_y']==by_class) & (dec_samples['predicted_y']==by_class)])\n",
    "#             correct_pred_rate_byclass.append(n_correct_pred_byclass / n_true_byclass)\n",
    "            \n",
    "            n_true_othclass = len(dec_samples.loc[dec_samples['true_y']!=by_class])\n",
    "            n_correct_pred_othclass = len(dec_samples.loc[(dec_samples['true_y']!=by_class) & (dec_samples['predicted_y']!=by_class)])\n",
    "            correct_pred_rate_othclass.append(n_correct_pred_othclass / n_true_othclass)\n",
    "\n",
    "        _x = np.arange(10)\n",
    "        _y_byclass = np.array(correct_pred_rate_byclass)\n",
    "        _y_othclass = np.array(correct_pred_rate_othclass)\n",
    "        _colors = ([list(mcolors.TABLEAU_COLORS.keys())[idx], \n",
    "                    list(mcolors.TABLEAU_COLORS.keys())[len(mcolors.TABLEAU_COLORS.keys())-1-idx]] if colors is None else colors[idx])\n",
    "        ax.plot(_x, _y_byclass, marker='o', color=_colors[0])\n",
    "        ax.plot(_x, _y_othclass, marker='o', color=_colors[1])\n",
    "        \n",
    "        _legend.append('model {0} target class'.format(idx))\n",
    "        _legend.append('model {0} other class'.format(idx))\n",
    "        deciles.append(y_byclass['deciles'])\n",
    "    \n",
    "    ax.set_xticks(np.arange(10))\n",
    "    \n",
    "    if cumulative:\n",
    "        ax.set_xticklabels(np.arange(10,110,10))\n",
    "        ax.set_xlabel('% of population', fontsize=14, fontweight='bold')\n",
    "        ax.set_ylabel('Correct predictions rate \\n (per % of population)', fontsize=12, fontweight='bold')\n",
    "    else:\n",
    "        ax.set_xticklabels(np.arange(1,11))\n",
    "        ax.set_xlabel('Deciles', fontsize=14, fontweight='bold')\n",
    "        ax.set_ylabel('Correct predictions rate \\n (per decile)', fontsize=12, fontweight='bold')\n",
    "    \n",
    "    if legend is None:\n",
    "        legend = _legend\n",
    "    ax.legend(legend)\n",
    "    spines = {'left': True,\n",
    "              'right': False,\n",
    "              'top': False,\n",
    "              'bottom': True}\n",
    "    for i in list(spines.keys()):\n",
    "        ax.spines[i].set_visible(spines[i])\n",
    "\n",
    "    if title is None:\n",
    "        title = model.__class__.__name__\n",
    "    ax.set_title(title, fontsize=14, fontweight='bold')\n",
    "    ttl = ax.title\n",
    "    ttl.set_position([.5, 1.05])\n",
    "    ax.grid(True)\n",
    "\n",
    "    return deciles\n",
    "\n",
    "def plot_diagram_xy(data, x, y, ax, x_title=None, y_title=None, x_labels_format='{0:.0f}', title=None, pot_size=None, tick_labelsIprefix=''):\n",
    "    _data = data.copy()\n",
    "    _data = _data.sort_values(by=x, ascending=False)\n",
    "#     _data['qcut'] = pd.cut(_data[x], 10, labels=False, duplicates='drop')\n",
    "    _dec = np.zeros(len(_data[x]))\n",
    "    n = len(_data[x]) // 10\n",
    "    N = 10 * n\n",
    "    for i in range(0, N, n):\n",
    "        if i/n==9:\n",
    "            _dec[i:] = i/n\n",
    "        else:\n",
    "            _dec[i:i+n] = i/n\n",
    "    _data['deciles'] = _dec\n",
    "    _data['deciles'] = _data['deciles'].astype('int32')\n",
    "\n",
    "#     cuts = _data['qcut'].unique()\n",
    "#     _x = np.zeros(len(cuts))\n",
    "#     _y = np.zeros(len(cuts))\n",
    "#     for idx, i in enumerate(cuts):\n",
    "#         _x[len(cuts)-1-idx] = np.mean(_data.loc[_data['qcut']==i, x])\n",
    "#         _y[len(cuts)-1-idx] = np.mean(_data.loc[_data['qcut']==i, y])\n",
    "    cuts = _data['deciles'].unique()\n",
    "    _x = np.zeros(len(cuts))\n",
    "    _y = np.zeros(len(cuts))\n",
    "    for idx, i in enumerate(cuts):\n",
    "        _x[len(cuts)-1-idx] = np.mean(_data.loc[_data['deciles']==i, x])\n",
    "        _y[len(cuts)-1-idx] = np.mean(_data.loc[_data['deciles']==i, y])\n",
    "    plot_bar_diagram(ax=ax,\n",
    "                     data=pd.Series(_y).to_frame().T,\n",
    "                     tick_labels=[tick_labelsIprefix + x_labels_format.format(i) for i in _x],\n",
    "                     bar_labels=None,\n",
    "                     orient='v',\n",
    "                     width=0.3,\n",
    "                     title=('{0} vs {1}'.format(y,x) if title is None else title),\n",
    "                     length_label=(y if y_title is None else y_title),\n",
    "                     tick_axis_label=(x if x_title is None else x_title),\n",
    "                     plots_colors=['tab:blue'],\n",
    "                     spines={'top': False, 'right': False})\n",
    "    \n",
    "def plot_diagram_deciles(data, y, ax, x_title=None, y_title=None, title=None, pot_size=None):\n",
    "    _data = data.copy()\n",
    "    dec_labs = _data['deciles'].unique()\n",
    "    dec_mean = []\n",
    "    for i in dec_labs:\n",
    "        dec_samples = _data.loc[_data['deciles']==i]\n",
    "        n = len(dec_samples)\n",
    "        val_mean = np.mean(dec_samples[y])\n",
    "        dec_mean.append(val_mean)\n",
    "        \n",
    "    plot_bar_diagram(ax=ax,\n",
    "                     data=pd.Series(dec_mean).to_frame().T,\n",
    "                     tick_labels=[i for i in dec_labs],\n",
    "                     bar_labels=None,\n",
    "                     orient='v',\n",
    "                     width=0.3,\n",
    "                     title=('{0} vs {1}'.format(y,x) if title is None else title),\n",
    "                     length_label=(y if y_title is None else y_title),\n",
    "                     tick_axis_label=('Deciles' if x_title is None else x_title),\n",
    "                     plots_colors=['tab:blue'],\n",
    "                     spines={'top': False, 'right': False})\n",
    "    \n",
    "def get_lift_chart_proba(model, data, X, by_class=1):\n",
    "    _data = data.copy()\n",
    "#     y_pred = model.predict(X)\n",
    "#     y_prob = model.predict_proba(X)\n",
    "\n",
    "#     y = np.stack([y_true, y_pred, y_prob[:,by_class]], axis=1)\n",
    "#     y = pd.DataFrame(y, columns=['true_y', 'predicted_y', 'proba_y']).sort_values(by='proba_y', ascending=False)\n",
    "#     y['deciles'] = pd.qcut(y['proba_y'], 10, labels=False, duplicates='drop')\n",
    "#     y['deciles'] = y['deciles'].apply(lambda x: 9-x)\n",
    "    \n",
    "#     y_pred = model.predict(X)\n",
    "    y_pred = model.predict_proba(X)[:,1]\n",
    "#     y_true = ys_true[idx]\n",
    "\n",
    "#     y = np.stack([y_true, y_pred, y_prob[:,1]], axis=1)\n",
    "#     y = pd.DataFrame(y, columns=['true_y', 'predicted_y', 'proba_y']).sort_values(by='proba_y', ascending=False)\n",
    "    _data['predicted_y'] = y_pred.reshape(-1,1)\n",
    "    y = _data.sort_values(by='predicted_y', ascending=False)\n",
    "    y_dec = np.zeros(len(y_pred))\n",
    "    n = len(y) // 10\n",
    "    N = 10 * n\n",
    "    for i in range(0, N, n):\n",
    "        if i/n==9:\n",
    "            y_dec[i:] = i/n\n",
    "        else:\n",
    "            y_dec[i:i+n] = i/n\n",
    "    y['deciles'] = y_dec\n",
    "    y['deciles'] = y['deciles'].astype('int32')\n",
    "\n",
    "    def p_cum_sum(arr_n, arr_p, pos):\n",
    "        arr = []\n",
    "        for i in range(pos + 1):\n",
    "            arr.append(arr_p[i] * arr_n[i])\n",
    "        return np.sum(arr)\n",
    "\n",
    "    dec_labs = y['deciles'].unique()\n",
    "    total_mean_proba = np.mean(y['predicted_y'])\n",
    "    n_samples = []\n",
    "    dec_mean_proba = []\n",
    "    dec_lift_ovr_mean = []\n",
    "    n_cum_samples = []\n",
    "    cum_mean_proba = []\n",
    "    cum_lift_ovr_mean = []\n",
    "    for i in dec_labs:\n",
    "        dec_samples = y.loc[y['deciles']==i]\n",
    "\n",
    "        n = len(dec_samples)\n",
    "        p = np.mean(dec_samples['predicted_y'])\n",
    "        lift_ovr = p / total_mean_proba - 1\n",
    "\n",
    "        n_samples.append(n)\n",
    "        dec_mean_proba.append(p)\n",
    "        dec_lift_ovr_mean.append(lift_ovr)\n",
    "\n",
    "        n_cum = len(y.loc[y['deciles']<=i])\n",
    "        p_cum = (p if i==0 else p_cum_sum(n_samples, dec_mean_proba, i) / n_cum)\n",
    "        lift_ovr_cum = p_cum / total_mean_proba - 1\n",
    "\n",
    "        n_cum_samples.append(n_cum)\n",
    "        cum_mean_proba.append(p_cum)\n",
    "        cum_lift_ovr_mean.append(lift_ovr_cum)\n",
    "    lift = np.stack([n_samples, dec_mean_proba, dec_lift_ovr_mean, n_cum_samples, cum_mean_proba, cum_lift_ovr_mean], axis=1)\n",
    "    return y, total_mean_proba, pd.DataFrame(lift, columns=['n_samples', 'dec_mean_proba', 'dec_lift_ovr_mean', 'n_cum_samples', 'cum_mean_proba', 'cum_lift_ovr_mean'])"
   ]
  },
  {
   "cell_type": "markdown",
   "metadata": {},
   "source": [
    "#### Helper functions for model training"
   ]
  },
  {
   "cell_type": "code",
   "execution_count": 3,
   "metadata": {},
   "outputs": [],
   "source": [
    "# Tune parameters\n",
    "def param_tune(model, X_train, y_train, param_ranges, scoring, cv, refit=''):\n",
    "    if refit == '': refit = list(scoring.keys())[0]\n",
    "    gsearch = model_selection.GridSearchCV(estimator=model, param_grid=param_ranges, scoring=scoring, cv=cv, refit=refit, return_train_score=True,\n",
    "                           n_jobs=-1)\n",
    "    gsearch.fit(X_train, y_train)\n",
    "    cv_res = pd.DataFrame(gsearch.cv_results_)\n",
    "    cv_res_sel = []\n",
    "    for i in list(scoring.keys()):\n",
    "        df = cv_res.loc[cv_res['rank_test_%s' % i] == 1].head(1)\n",
    "        cv_res_sel.append(df[['mean_train_%s' % i, 'std_train_%s' % i, 'mean_test_%s' % i, 'std_test_%s' % i]].values[0])\n",
    "\n",
    "    cv_res_sel = pd.DataFrame(cv_res_sel, index=list(scoring.keys()), columns=['mean_train', 'std_train', 'mean_test', 'std_test'])\n",
    "    cv_results = cv_res_sel.T\n",
    "    cv_results = cv_results.apply(lambda i: np.absolute(i))\n",
    "    return gsearch.best_estimator_, gsearch.best_params_, gsearch.best_score_, cv_results\n",
    "\n",
    "# Cross-validation report\n",
    "def cv_rep(model, X, y, cv, scoring, fit_params=None):\n",
    "    cv_res = model_selection.cross_validate(model, X, y, scoring=scoring, cv=cv, return_train_score=True, fit_params=fit_params, n_jobs=-1)\n",
    "    cv_res = [[np.mean(cv_res['train_%s' % i]), np.std(cv_res['train_%s' % i]), np.mean(cv_res['test_%s' % i]), np.std(cv_res['test_%s' % i])] for i in list(scoring.keys())]\n",
    "    cv_results = pd.DataFrame(cv_res, index=list(scoring.keys()), columns=['mean_train', 'std_train', 'mean_test', 'std_test'])\n",
    "    cv_results = cv_results.T\n",
    "    cv_results = cv_results.apply(lambda i: np.absolute(i))\n",
    "    return cv_results\n",
    "\n",
    "# Tune model parameters and print CV report\n",
    "def train_best_model(model, param_ranges, X_train, y_train, scoring, cv, refit):\n",
    "    model, best_params, best_score, cv_res = param_tune(model, X_train, y_train, param_ranges, scoring, cv, refit=refit)\n",
    "    print('CV results \\n ===================================================')\n",
    "    display(cv_res)\n",
    "    print('\\n Best parameters: ', best_params)\n",
    "    return model, cv_res\n",
    "\n",
    "# Tune model parameters and print CV report for calibrated classifier model\n",
    "def train_best_model_cal(model, param_ranges, X_train, y_train, scoring, cv, refit):\n",
    "    if model.__class__.__name__=='CalibratedClassifierCV':\n",
    "         model_cal= model \n",
    "    else:\n",
    "        model_cal = calib.CalibratedClassifierCV(base_estimator=model, method='sigmoid', cv=cv)\n",
    "    model_cal, best_params, best_score, cv_res = param_tune(model_cal, X_train, y_train, param_ranges, scoring, cv, refit=refit)\n",
    "    print(cv_res)\n",
    "    print(best_params)\n",
    "    return model, cv_res\n",
    "\n",
    "def dropcol_imp_precision_metric(model, X_valid, y_valid, sample_weights):\n",
    "    y_pred = model.predict(X_valid)\n",
    "    return metrics.precision_score(y_valid, y_pred, sample_weight=sample_weights)\n",
    "\n",
    "def dropcol_imp_roc_auc_metric(model, X_valid, y_valid, sample_weights):\n",
    "    y_pred = model.predict(X_valid)\n",
    "    return metrics.roc_auc_score(y_valid, y_pred, sample_weight=sample_weights)"
   ]
  },
  {
   "cell_type": "markdown",
   "metadata": {},
   "source": [
    "#### Load data"
   ]
  },
  {
   "cell_type": "code",
   "execution_count": 150,
   "metadata": {},
   "outputs": [
    {
     "name": "stdout",
     "output_type": "stream",
     "text": [
      "Reading sheet Transactions18\n"
     ]
    }
   ],
   "source": [
    "data_2018 = pd.read_excel(io='Data/Transaction Data.xlsx',\n",
    "                     sheet_name='Transactions18',\n",
    "                     header=0,\n",
    "                     index_col=0,\n",
    "                     verbose=1)"
   ]
  },
  {
   "cell_type": "code",
   "execution_count": 151,
   "metadata": {},
   "outputs": [
    {
     "name": "stdout",
     "output_type": "stream",
     "text": [
      "Reading sheet Transactions19\n"
     ]
    }
   ],
   "source": [
    "data_2019 = pd.read_excel(io='Data/Transaction Data.xlsx',\n",
    "                     sheet_name='Transactions19',\n",
    "                     header=0,\n",
    "                     index_col=0,\n",
    "                     verbose=1)"
   ]
  },
  {
   "cell_type": "markdown",
   "metadata": {},
   "source": [
    "#### Drop refresh date column"
   ]
  },
  {
   "cell_type": "code",
   "execution_count": 152,
   "metadata": {},
   "outputs": [],
   "source": [
    "data_2018 = data_2018.drop(columns=['refresh_date'])"
   ]
  },
  {
   "cell_type": "code",
   "execution_count": 153,
   "metadata": {},
   "outputs": [],
   "source": [
    "data_2019 = data_2019.drop(columns=['refresh_date'])"
   ]
  },
  {
   "cell_type": "markdown",
   "metadata": {},
   "source": [
    "#### Add target columns"
   ]
  },
  {
   "cell_type": "code",
   "execution_count": 154,
   "metadata": {},
   "outputs": [],
   "source": [
    "data_2019.columns = [i + '_target' for i in list(data_2019.columns)]"
   ]
  },
  {
   "cell_type": "code",
   "execution_count": 155,
   "metadata": {},
   "outputs": [],
   "source": [
    "data_2019 = data_2019.loc[data_2018.index]"
   ]
  },
  {
   "cell_type": "code",
   "execution_count": 156,
   "metadata": {},
   "outputs": [],
   "source": [
    "data = pd.concat([data_2018, data_2019], axis=1)"
   ]
  },
  {
   "cell_type": "markdown",
   "metadata": {},
   "source": [
    "#### Deal with NaNs"
   ]
  },
  {
   "cell_type": "markdown",
   "metadata": {},
   "source": [
    "All data is numeric and and naturaly is equal or more than zero. So will fill nans with zeros."
   ]
  },
  {
   "cell_type": "code",
   "execution_count": 157,
   "metadata": {},
   "outputs": [],
   "source": [
    "data = data.fillna(value=0)"
   ]
  },
  {
   "cell_type": "markdown",
   "metadata": {},
   "source": [
    "#### Drop samples that have negative sales and positive redemptions"
   ]
  },
  {
   "cell_type": "code",
   "execution_count": 158,
   "metadata": {},
   "outputs": [
    {
     "name": "stdout",
     "output_type": "stream",
     "text": [
      "sales_12M_target 2\n",
      "AUM 4377\n",
      "sales_curr 4\n",
      "sales_12M 7\n",
      "aum_AC_EQUITY 3871\n",
      "aum_AC_FIXED_INCOME_MUNI 3276\n",
      "aum_AC_FIXED_INCOME_TAXABLE 1694\n",
      "aum_AC_MULTIPLE 1149\n",
      "aum_AC_PHYSICAL_COMMODITY 90\n",
      "aum_AC_REAL_ESTATE 3\n",
      "aum_AC_TARGET 19\n",
      "aum_P_529 14\n",
      "aum_P_ETF 5\n",
      "aum_P_MF 4564\n",
      "aum_P_SMA 1151\n",
      "aum_P_UCITS 15\n",
      "aum_P_UIT 42\n"
     ]
    }
   ],
   "source": [
    "# Inspect positive variables\n",
    "f_pos = ['sales_12M_target',\n",
    "         'AUM', \n",
    "         'sales_curr',         \n",
    "         'sales_12M',\n",
    "         'aum_AC_EQUITY',\n",
    "         'aum_AC_FIXED_INCOME_MUNI',\n",
    "         'aum_AC_FIXED_INCOME_TAXABLE',\n",
    "         'aum_AC_MULTIPLE',\n",
    "         'aum_AC_PHYSICAL_COMMODITY',\n",
    "         'aum_AC_REAL_ESTATE',\n",
    "         'aum_AC_TARGET',\n",
    "         'aum_P_529',\n",
    "         'aum_P_ETF',\n",
    "         'aum_P_MF',\n",
    "         'aum_P_SMA',\n",
    "         'aum_P_UCITS',\n",
    "         'aum_P_UIT']\n",
    "\n",
    "for i in f_pos:\n",
    "    print(i, len(data.loc[data[i] < 0]))"
   ]
  },
  {
   "cell_type": "code",
   "execution_count": 159,
   "metadata": {},
   "outputs": [
    {
     "name": "stdout",
     "output_type": "stream",
     "text": [
      "redemption_curr 3\n",
      "redemption_12M 4\n"
     ]
    }
   ],
   "source": [
    "# Inspect negative variables\n",
    "f_neg = ['redemption_curr',\n",
    "'redemption_12M']\n",
    "\n",
    "for i in f_neg:\n",
    "    print(i, len(data.loc[data[i] > 0]))"
   ]
  },
  {
   "cell_type": "code",
   "execution_count": 160,
   "metadata": {},
   "outputs": [],
   "source": [
    "data = data.loc[(data['sales_12M']>=0) & \n",
    "         (data['sales_12M_target']>=0) & \n",
    "         (data['sales_curr']>=0) & \n",
    "         (data['redemption_curr']<=0) & \n",
    "         (data['redemption_12M']<=0)]"
   ]
  },
  {
   "cell_type": "markdown",
   "metadata": {},
   "source": [
    "#### Reverse redemptions sign"
   ]
  },
  {
   "cell_type": "code",
   "execution_count": 161,
   "metadata": {},
   "outputs": [],
   "source": [
    "for i in f_neg:\n",
    "    data[i] = data[i].apply(np.abs)"
   ]
  },
  {
   "cell_type": "markdown",
   "metadata": {},
   "source": [
    "#### Add delta_sales = sales_12M_2019 - sales_12M_2018"
   ]
  },
  {
   "cell_type": "code",
   "execution_count": 162,
   "metadata": {},
   "outputs": [],
   "source": [
    "data['delta_sales_12M_18_19'] = (data['sales_12M_target'] - data['sales_12M'])"
   ]
  },
  {
   "cell_type": "markdown",
   "metadata": {},
   "source": [
    "#### Add net sales data (net_sales = sales - redumptions)"
   ]
  },
  {
   "cell_type": "code",
   "execution_count": 163,
   "metadata": {},
   "outputs": [],
   "source": [
    "net_cols = {'net_no_of_sales_12M_1': ['no_of_sales_12M_1', 'no_of_Redemption_12M_1'], \n",
    "            'net_no_of_sales_12M_10K': ['no_of_sales_12M_10K', 'no_of_Redemption_12M_10K'], \n",
    "            'net_no_of_funds_sold_12M_1': ['no_of_funds_sold_12M_1', 'no_of_funds_redeemed_12M_1'], \n",
    "            'net_no_of_fund_sales_12M_10K': ['no_of_fund_sales_12M_10K', 'no_of_funds_Redemption_12M_10K'], \n",
    "            'net_no_of_assetclass_sold_12M_1': ['no_of_assetclass_sold_12M_1', 'no_of_assetclass_redeemed_12M_1'], \n",
    "            'net_no_of_assetclass_sales_12M_10K': ['no_of_assetclass_sales_12M_10K', 'no_of_assetclass_Redemption_12M_10K']}"
   ]
  },
  {
   "cell_type": "code",
   "execution_count": 164,
   "metadata": {},
   "outputs": [],
   "source": [
    "for net_col in net_cols.keys():\n",
    "    data[net_col] = data[net_cols[net_col][0]] - data[net_cols[net_col][1]]"
   ]
  },
  {
   "cell_type": "code",
   "execution_count": 165,
   "metadata": {},
   "outputs": [],
   "source": [
    "data['net_sales_curr'] = data['sales_curr'] - data['redemption_curr']\n",
    "data['net_sales_12M'] = data['sales_12M'] - data['redemption_12M']"
   ]
  },
  {
   "cell_type": "markdown",
   "metadata": {},
   "source": [
    "#### Split aum columns into positive and negative columns"
   ]
  },
  {
   "cell_type": "code",
   "execution_count": 166,
   "metadata": {},
   "outputs": [],
   "source": [
    "aum_cols = []\n",
    "for i in list(data.columns):\n",
    "    if 'aum' in i:\n",
    "        aum_cols.append(i)"
   ]
  },
  {
   "cell_type": "code",
   "execution_count": 167,
   "metadata": {},
   "outputs": [],
   "source": [
    "for aum_col in aum_cols:\n",
    "    data['pos_' + aum_col] = data[aum_col].apply(lambda x: x if x >= 0 else 0)\n",
    "    data['neg_' + aum_col] = data[aum_col].apply(lambda x: np.abs(x) if x < 0 else 0)"
   ]
  },
  {
   "cell_type": "code",
   "execution_count": 168,
   "metadata": {},
   "outputs": [],
   "source": [
    "data['pos_AUM'] = data['AUM'].apply(lambda x: x if x >= 0 else 0)\n",
    "data['neg_AUM'] = data['AUM'].apply(lambda x: np.abs(x) if x < 0 else 0)"
   ]
  },
  {
   "cell_type": "markdown",
   "metadata": {},
   "source": [
    "#### Split net columns into positive and negative columns"
   ]
  },
  {
   "cell_type": "code",
   "execution_count": 169,
   "metadata": {},
   "outputs": [],
   "source": [
    "for net_col in list(net_cols.keys()) + ['net_sales_curr', 'net_sales_12M']:\n",
    "    data['pos_' + net_col] = data[net_col].apply(lambda x: x if x >= 0 else 0)\n",
    "    data['neg_' + net_col] = data[net_col].apply(lambda x: np.abs(x) if x < 0 else 0)"
   ]
  },
  {
   "cell_type": "markdown",
   "metadata": {},
   "source": [
    "#### Make a copy of data for post-processing"
   ]
  },
  {
   "cell_type": "code",
   "execution_count": 170,
   "metadata": {},
   "outputs": [],
   "source": [
    "data_raw = data.copy()"
   ]
  },
  {
   "cell_type": "markdown",
   "metadata": {},
   "source": [
    "#### Apply log-transform to continuous features"
   ]
  },
  {
   "cell_type": "code",
   "execution_count": 24,
   "metadata": {},
   "outputs": [],
   "source": [
    "# Drop columns that have negative values\n",
    "data = data.drop(columns=aum_cols)\n",
    "data = data.drop(columns=['AUM'])\n",
    "data = data.drop(columns=list(net_cols.keys()) + ['net_sales_curr', 'net_sales_12M'])"
   ]
  },
  {
   "cell_type": "code",
   "execution_count": 25,
   "metadata": {},
   "outputs": [],
   "source": [
    "for i in ['sales_curr',\n",
    "          'sales_12M',\n",
    "          'redemption_curr',\n",
    "          'redemption_12M',\n",
    "          'pos_aum_AC_EQUITY',\n",
    "          'neg_aum_AC_EQUITY',\n",
    "          'pos_aum_AC_FIXED_INCOME_MUNI',\n",
    "          'neg_aum_AC_FIXED_INCOME_MUNI',\n",
    "          'pos_aum_AC_FIXED_INCOME_TAXABLE',\n",
    "          'neg_aum_AC_FIXED_INCOME_TAXABLE',\n",
    "          'pos_aum_AC_MONEY',\n",
    "          'neg_aum_AC_MONEY',\n",
    "          'pos_aum_AC_MULTIPLE',\n",
    "          'neg_aum_AC_MULTIPLE',\n",
    "          'pos_aum_AC_PHYSICAL_COMMODITY',\n",
    "          'neg_aum_AC_PHYSICAL_COMMODITY',\n",
    "          'pos_aum_AC_REAL_ESTATE',\n",
    "          'neg_aum_AC_REAL_ESTATE',\n",
    "          'pos_aum_AC_TARGET',\n",
    "          'neg_aum_AC_TARGET',\n",
    "          'pos_aum_P_529',\n",
    "          'neg_aum_P_529',\n",
    "          'pos_aum_P_ALT',\n",
    "          'neg_aum_P_ALT',\n",
    "          'pos_aum_P_CEF',\n",
    "          'neg_aum_P_CEF',\n",
    "          'pos_aum_P_ETF',\n",
    "          'neg_aum_P_ETF',\n",
    "          'pos_aum_P_MF',\n",
    "          'neg_aum_P_MF',\n",
    "          'pos_aum_P_SMA',\n",
    "          'neg_aum_P_SMA',\n",
    "          'pos_aum_P_UCITS',\n",
    "          'neg_aum_P_UCITS',\n",
    "          'pos_aum_P_UIT',\n",
    "          'neg_aum_P_UIT',\n",
    "          'pos_net_sales_curr',\n",
    "          'pos_net_sales_12M',\n",
    "          'neg_net_sales_curr',\n",
    "          'neg_net_sales_12M']:\n",
    "    data[i] = data[i].apply(lambda x: np.log(x+2))"
   ]
  },
  {
   "cell_type": "markdown",
   "metadata": {},
   "source": [
    "#### Encode target feature"
   ]
  },
  {
   "cell_type": "code",
   "execution_count": 26,
   "metadata": {},
   "outputs": [],
   "source": [
    "data['new_Fund_added_12M_target'] = data['new_Fund_added_12M_target'].apply(lambda x: 1 if x > 0 else 0)"
   ]
  },
  {
   "cell_type": "markdown",
   "metadata": {},
   "source": [
    "#### Data summary"
   ]
  },
  {
   "cell_type": "code",
   "execution_count": 27,
   "metadata": {},
   "outputs": [],
   "source": [
    "data_cols = ['sales_12M_target', 'new_Fund_added_12M_target']"
   ]
  },
  {
   "cell_type": "code",
   "execution_count": 28,
   "metadata": {},
   "outputs": [],
   "source": [
    "for col in list(data.columns):\n",
    "    if not col in data_cols:\n",
    "        data_cols.append(col)"
   ]
  },
  {
   "cell_type": "code",
   "execution_count": 29,
   "metadata": {},
   "outputs": [],
   "source": [
    "data = data[data_cols]"
   ]
  },
  {
   "cell_type": "code",
   "execution_count": 30,
   "metadata": {},
   "outputs": [
    {
     "data": {
      "text/html": [
       "<div>\n",
       "<style scoped>\n",
       "    .dataframe tbody tr th:only-of-type {\n",
       "        vertical-align: middle;\n",
       "    }\n",
       "\n",
       "    .dataframe tbody tr th {\n",
       "        vertical-align: top;\n",
       "    }\n",
       "\n",
       "    .dataframe thead th {\n",
       "        text-align: right;\n",
       "    }\n",
       "</style>\n",
       "<table border=\"1\" class=\"dataframe\">\n",
       "  <thead>\n",
       "    <tr style=\"text-align: right;\">\n",
       "      <th></th>\n",
       "      <th>count</th>\n",
       "      <th>mean</th>\n",
       "      <th>std</th>\n",
       "      <th>min</th>\n",
       "      <th>25%</th>\n",
       "      <th>50%</th>\n",
       "      <th>75%</th>\n",
       "      <th>max</th>\n",
       "    </tr>\n",
       "  </thead>\n",
       "  <tbody>\n",
       "    <tr>\n",
       "      <th>sales_12M_target</th>\n",
       "      <td>9988.0</td>\n",
       "      <td>211519.205077</td>\n",
       "      <td>1.139872e+06</td>\n",
       "      <td>0.000000</td>\n",
       "      <td>0.000000</td>\n",
       "      <td>87.575000</td>\n",
       "      <td>45143.376250</td>\n",
       "      <td>4.867638e+07</td>\n",
       "    </tr>\n",
       "    <tr>\n",
       "      <th>new_Fund_added_12M_target</th>\n",
       "      <td>9988.0</td>\n",
       "      <td>0.251502</td>\n",
       "      <td>4.338980e-01</td>\n",
       "      <td>0.000000</td>\n",
       "      <td>0.000000</td>\n",
       "      <td>0.000000</td>\n",
       "      <td>1.000000</td>\n",
       "      <td>1.000000e+00</td>\n",
       "    </tr>\n",
       "    <tr>\n",
       "      <th>no_of_sales_12M_1</th>\n",
       "      <td>9988.0</td>\n",
       "      <td>20.049760</td>\n",
       "      <td>9.849246e+01</td>\n",
       "      <td>0.000000</td>\n",
       "      <td>0.000000</td>\n",
       "      <td>0.000000</td>\n",
       "      <td>8.000000</td>\n",
       "      <td>4.395000e+03</td>\n",
       "    </tr>\n",
       "    <tr>\n",
       "      <th>no_of_Redemption_12M_1</th>\n",
       "      <td>9988.0</td>\n",
       "      <td>20.966860</td>\n",
       "      <td>1.917042e+02</td>\n",
       "      <td>0.000000</td>\n",
       "      <td>0.000000</td>\n",
       "      <td>1.000000</td>\n",
       "      <td>8.000000</td>\n",
       "      <td>1.215200e+04</td>\n",
       "    </tr>\n",
       "    <tr>\n",
       "      <th>no_of_sales_12M_10K</th>\n",
       "      <td>9988.0</td>\n",
       "      <td>2.415098</td>\n",
       "      <td>1.452724e+01</td>\n",
       "      <td>0.000000</td>\n",
       "      <td>0.000000</td>\n",
       "      <td>0.000000</td>\n",
       "      <td>1.000000</td>\n",
       "      <td>9.860000e+02</td>\n",
       "    </tr>\n",
       "    <tr>\n",
       "      <th>...</th>\n",
       "      <td>...</td>\n",
       "      <td>...</td>\n",
       "      <td>...</td>\n",
       "      <td>...</td>\n",
       "      <td>...</td>\n",
       "      <td>...</td>\n",
       "      <td>...</td>\n",
       "      <td>...</td>\n",
       "    </tr>\n",
       "    <tr>\n",
       "      <th>neg_net_no_of_assetclass_sales_12M_10K</th>\n",
       "      <td>9988.0</td>\n",
       "      <td>0.178815</td>\n",
       "      <td>4.544581e-01</td>\n",
       "      <td>0.000000</td>\n",
       "      <td>0.000000</td>\n",
       "      <td>0.000000</td>\n",
       "      <td>0.000000</td>\n",
       "      <td>4.000000e+00</td>\n",
       "    </tr>\n",
       "    <tr>\n",
       "      <th>pos_net_sales_curr</th>\n",
       "      <td>9988.0</td>\n",
       "      <td>1.933027</td>\n",
       "      <td>2.962739e+00</td>\n",
       "      <td>0.693147</td>\n",
       "      <td>0.693147</td>\n",
       "      <td>0.693147</td>\n",
       "      <td>0.693147</td>\n",
       "      <td>1.608138e+01</td>\n",
       "    </tr>\n",
       "    <tr>\n",
       "      <th>neg_net_sales_curr</th>\n",
       "      <td>9988.0</td>\n",
       "      <td>2.151050</td>\n",
       "      <td>3.268324e+00</td>\n",
       "      <td>0.693147</td>\n",
       "      <td>0.693147</td>\n",
       "      <td>0.693147</td>\n",
       "      <td>0.693147</td>\n",
       "      <td>1.620685e+01</td>\n",
       "    </tr>\n",
       "    <tr>\n",
       "      <th>pos_net_sales_12M</th>\n",
       "      <td>9988.0</td>\n",
       "      <td>3.514470</td>\n",
       "      <td>4.634025e+00</td>\n",
       "      <td>0.693147</td>\n",
       "      <td>0.693147</td>\n",
       "      <td>0.693147</td>\n",
       "      <td>7.771091</td>\n",
       "      <td>1.697736e+01</td>\n",
       "    </tr>\n",
       "    <tr>\n",
       "      <th>neg_net_sales_12M</th>\n",
       "      <td>9988.0</td>\n",
       "      <td>3.551015</td>\n",
       "      <td>4.390168e+00</td>\n",
       "      <td>0.693147</td>\n",
       "      <td>0.693147</td>\n",
       "      <td>0.693147</td>\n",
       "      <td>8.077702</td>\n",
       "      <td>1.704257e+01</td>\n",
       "    </tr>\n",
       "  </tbody>\n",
       "</table>\n",
       "<p>70 rows × 8 columns</p>\n",
       "</div>"
      ],
      "text/plain": [
       "                                         count           mean           std  \\\n",
       "sales_12M_target                        9988.0  211519.205077  1.139872e+06   \n",
       "new_Fund_added_12M_target               9988.0       0.251502  4.338980e-01   \n",
       "no_of_sales_12M_1                       9988.0      20.049760  9.849246e+01   \n",
       "no_of_Redemption_12M_1                  9988.0      20.966860  1.917042e+02   \n",
       "no_of_sales_12M_10K                     9988.0       2.415098  1.452724e+01   \n",
       "...                                        ...            ...           ...   \n",
       "neg_net_no_of_assetclass_sales_12M_10K  9988.0       0.178815  4.544581e-01   \n",
       "pos_net_sales_curr                      9988.0       1.933027  2.962739e+00   \n",
       "neg_net_sales_curr                      9988.0       2.151050  3.268324e+00   \n",
       "pos_net_sales_12M                       9988.0       3.514470  4.634025e+00   \n",
       "neg_net_sales_12M                       9988.0       3.551015  4.390168e+00   \n",
       "\n",
       "                                             min       25%        50%  \\\n",
       "sales_12M_target                        0.000000  0.000000  87.575000   \n",
       "new_Fund_added_12M_target               0.000000  0.000000   0.000000   \n",
       "no_of_sales_12M_1                       0.000000  0.000000   0.000000   \n",
       "no_of_Redemption_12M_1                  0.000000  0.000000   1.000000   \n",
       "no_of_sales_12M_10K                     0.000000  0.000000   0.000000   \n",
       "...                                          ...       ...        ...   \n",
       "neg_net_no_of_assetclass_sales_12M_10K  0.000000  0.000000   0.000000   \n",
       "pos_net_sales_curr                      0.693147  0.693147   0.693147   \n",
       "neg_net_sales_curr                      0.693147  0.693147   0.693147   \n",
       "pos_net_sales_12M                       0.693147  0.693147   0.693147   \n",
       "neg_net_sales_12M                       0.693147  0.693147   0.693147   \n",
       "\n",
       "                                                 75%           max  \n",
       "sales_12M_target                        45143.376250  4.867638e+07  \n",
       "new_Fund_added_12M_target                   1.000000  1.000000e+00  \n",
       "no_of_sales_12M_1                           8.000000  4.395000e+03  \n",
       "no_of_Redemption_12M_1                      8.000000  1.215200e+04  \n",
       "no_of_sales_12M_10K                         1.000000  9.860000e+02  \n",
       "...                                              ...           ...  \n",
       "neg_net_no_of_assetclass_sales_12M_10K      0.000000  4.000000e+00  \n",
       "pos_net_sales_curr                          0.693147  1.608138e+01  \n",
       "neg_net_sales_curr                          0.693147  1.620685e+01  \n",
       "pos_net_sales_12M                           7.771091  1.697736e+01  \n",
       "neg_net_sales_12M                           8.077702  1.704257e+01  \n",
       "\n",
       "[70 rows x 8 columns]"
      ]
     },
     "execution_count": 30,
     "metadata": {},
     "output_type": "execute_result"
    }
   ],
   "source": [
    "data_desc = data.describe().T\n",
    "data_desc"
   ]
  },
  {
   "cell_type": "markdown",
   "metadata": {},
   "source": [
    "#### Preselect features"
   ]
  },
  {
   "cell_type": "code",
   "execution_count": 31,
   "metadata": {},
   "outputs": [],
   "source": [
    "# net_* features\n",
    "x_net = []\n",
    "for i in list(data.columns):\n",
    "    if 'net' in i:\n",
    "        x_net.append(i)"
   ]
  },
  {
   "cell_type": "code",
   "execution_count": 32,
   "metadata": {},
   "outputs": [],
   "source": [
    "# aum_* features\n",
    "x_aum = []\n",
    "for i in list(data.columns):\n",
    "    if 'aum' in i:\n",
    "        x_aum.append(i)"
   ]
  },
  {
   "cell_type": "code",
   "execution_count": 33,
   "metadata": {},
   "outputs": [],
   "source": [
    "# no_of*  features\n",
    "x_noof = []\n",
    "for i in list(data.columns):\n",
    "    if (('no_of' in i) or ('No_of' in i)) & (i not in x_net):\n",
    "        x_noof.append(i)"
   ]
  },
  {
   "cell_type": "code",
   "execution_count": 34,
   "metadata": {},
   "outputs": [],
   "source": [
    "# no_of*  features\n",
    "x_other = []\n",
    "for i in list(data.columns):\n",
    "    if (i not in x_net) & (i not in x_aum) & (i not in x_noof):\n",
    "        x_other.append(i)"
   ]
  },
  {
   "cell_type": "code",
   "execution_count": 35,
   "metadata": {},
   "outputs": [],
   "source": [
    "# Select a subset\n",
    "x_sel1 = x_noof + x_aum + ['sales_curr', 'sales_12M', 'redemption_curr', 'redemption_12M', 'new_Fund_added_12M']\n",
    "x_sel2 = x_net + x_aum + ['new_Fund_added_12M']"
   ]
  },
  {
   "cell_type": "code",
   "execution_count": 36,
   "metadata": {},
   "outputs": [],
   "source": [
    "X_presel1 = data[x_sel1]\n",
    "X_presel2 = data[x_sel2]"
   ]
  },
  {
   "cell_type": "markdown",
   "metadata": {},
   "source": [
    "#### Check dataset imbalance"
   ]
  },
  {
   "cell_type": "code",
   "execution_count": 37,
   "metadata": {},
   "outputs": [],
   "source": [
    "target = 'new_Fund_added_12M_target'"
   ]
  },
  {
   "cell_type": "code",
   "execution_count": 38,
   "metadata": {},
   "outputs": [
    {
     "name": "stdout",
     "output_type": "stream",
     "text": [
      "Class priors:\n",
      "Class 0 (NO new funds added): 75%\n",
      "Class 1 (new funds added): 25%\n"
     ]
    }
   ],
   "source": [
    "class_probs = [len(data.loc[data[target]==0]) / len(data), len(data.loc[data[target]==1]) / len(data)]\n",
    "print('Class priors:')\n",
    "print('Class 0 (NO new funds added): {0:.0%}'.format(class_probs[0]))\n",
    "print('Class 1 (new funds added): {0:.0%}'.format(class_probs[1]))"
   ]
  },
  {
   "cell_type": "markdown",
   "metadata": {},
   "source": [
    "#### Check correlation"
   ]
  },
  {
   "cell_type": "code",
   "execution_count": 39,
   "metadata": {},
   "outputs": [],
   "source": [
    "def check_target_corr(ds_target, X_presel, p0):\n",
    "#     ds_target = data[target].values\n",
    "    corr_check = {}\n",
    "    p1 = []\n",
    "    p2 = []\n",
    "    p3 = []\n",
    "    for i in list(X_presel.columns):\n",
    "        ds = X_presel[i].values\n",
    "        # Point biserial correlation\n",
    "        _, p = stats.pointbiserialr(ds_target, ds)\n",
    "        p1.append(p)\n",
    "        # Kruskal-Wallis H-test \n",
    "        _, p = stats.kruskal(ds_target, ds)\n",
    "        p2.append(p)\n",
    "    corr_check['point_biserial'] = p1\n",
    "    corr_check['kruskal'] = p2\n",
    "\n",
    "    corr_check = pd.DataFrame(corr_check, index=list(X_presel.columns))\n",
    "\n",
    "    # A variable is considered to have a relationship with the target if p <= 0.05\n",
    "    corr_check = corr_check.applymap(lambda i: 1 if i <= p0 else 0)\n",
    "    corr_check['score'] = corr_check.sum(axis=1)\n",
    "\n",
    "    # Keep only features with the score >= 2\n",
    "    corr_check_cols = corr_check.loc[corr_check['score'] == 2].index\n",
    "\n",
    "    return X_presel[corr_check_cols]"
   ]
  },
  {
   "cell_type": "code",
   "execution_count": 40,
   "metadata": {},
   "outputs": [
    {
     "name": "stderr",
     "output_type": "stream",
     "text": [
      "C:\\Users\\dimam\\AppData\\Roaming\\Python\\Python38\\site-packages\\scipy\\stats\\stats.py:3508: PearsonRConstantInputWarning: An input array is constant; the correlation coefficent is not defined.\n",
      "  warnings.warn(PearsonRConstantInputWarning())\n",
      "C:\\Users\\dimam\\AppData\\Roaming\\Python\\Python38\\site-packages\\scipy\\stats\\stats.py:3508: PearsonRConstantInputWarning: An input array is constant; the correlation coefficent is not defined.\n",
      "  warnings.warn(PearsonRConstantInputWarning())\n"
     ]
    }
   ],
   "source": [
    "X_presel_corr1 = check_target_corr(data[target].values, X_presel1, 0.05)\n",
    "X_presel_corr2 = check_target_corr(data[target].values, X_presel2, 0.05)"
   ]
  },
  {
   "cell_type": "markdown",
   "metadata": {},
   "source": [
    "#### Check for multicollinearity"
   ]
  },
  {
   "cell_type": "code",
   "execution_count": 41,
   "metadata": {},
   "outputs": [],
   "source": [
    "def check_multicollinearity(X_presel, vif0):\n",
    "    X_presel_mcoll = add_constant(X_presel)\n",
    "    vif = pd.Series([variance_inflation_factor(X_presel_mcoll.values, i) for i in range(X_presel_mcoll.shape[1])], index=X_presel_mcoll.columns)\n",
    "    _ = vif.pop('const')\n",
    "    return X_presel[vif.loc[vif < vif0].index]"
   ]
  },
  {
   "cell_type": "code",
   "execution_count": 42,
   "metadata": {},
   "outputs": [],
   "source": [
    "X_presel_mcoll1 = check_multicollinearity(X_presel_corr1, 5)\n",
    "X_presel_mcoll2 = check_multicollinearity(X_presel_corr2, 5)"
   ]
  },
  {
   "cell_type": "code",
   "execution_count": 43,
   "metadata": {},
   "outputs": [],
   "source": [
    "X_presel_mcoll = data[list(set(X_presel_mcoll1.columns) | set(X_presel_mcoll2.columns))]"
   ]
  },
  {
   "cell_type": "code",
   "execution_count": 44,
   "metadata": {},
   "outputs": [
    {
     "data": {
      "text/plain": [
       "['neg_net_no_of_assetclass_sold_12M_1',\n",
       " 'neg_aum_AC_REAL_ESTATE',\n",
       " 'pos_net_no_of_assetclass_sold_12M_1',\n",
       " 'neg_net_no_of_sales_12M_10K',\n",
       " 'redemption_curr',\n",
       " 'no_of_sales_12M_10K',\n",
       " 'pos_aum_AC_PHYSICAL_COMMODITY',\n",
       " 'pos_aum_P_529',\n",
       " 'no_of_sales_12M_1',\n",
       " 'pos_aum_P_CEF',\n",
       " 'neg_net_no_of_funds_sold_12M_1',\n",
       " 'pos_aum_P_UIT',\n",
       " 'pos_net_no_of_sales_12M_10K',\n",
       " 'pos_net_sales_12M',\n",
       " 'pos_aum_AC_REAL_ESTATE',\n",
       " 'pos_net_no_of_assetclass_sales_12M_10K',\n",
       " 'neg_aum_P_ETF',\n",
       " 'pos_aum_P_ETF',\n",
       " 'neg_net_no_of_fund_sales_12M_10K',\n",
       " 'neg_net_no_of_assetclass_sales_12M_10K',\n",
       " 'neg_aum_AC_FIXED_INCOME_MUNI',\n",
       " 'sales_curr',\n",
       " 'neg_net_sales_12M',\n",
       " 'pos_aum_AC_FIXED_INCOME_MUNI',\n",
       " 'pos_aum_AC_TARGET',\n",
       " 'new_Fund_added_12M',\n",
       " 'neg_net_sales_curr',\n",
       " 'pos_net_no_of_fund_sales_12M_10K',\n",
       " 'no_of_Redemption_12M_10K',\n",
       " 'pos_aum_AC_EQUITY',\n",
       " 'pos_net_sales_curr',\n",
       " 'pos_net_no_of_sales_12M_1',\n",
       " 'neg_aum_P_UIT',\n",
       " 'neg_aum_AC_FIXED_INCOME_TAXABLE',\n",
       " 'pos_net_no_of_funds_sold_12M_1',\n",
       " 'neg_aum_AC_MULTIPLE',\n",
       " 'pos_aum_P_SMA',\n",
       " 'pos_aum_AC_MULTIPLE',\n",
       " 'pos_aum_AC_FIXED_INCOME_TAXABLE',\n",
       " 'neg_aum_AC_PHYSICAL_COMMODITY',\n",
       " 'neg_aum_P_529',\n",
       " 'neg_aum_P_MF',\n",
       " 'no_of_Redemption_12M_1']"
      ]
     },
     "execution_count": 44,
     "metadata": {},
     "output_type": "execute_result"
    }
   ],
   "source": [
    "list(X_presel_mcoll.columns)"
   ]
  },
  {
   "cell_type": "markdown",
   "metadata": {},
   "source": [
    "#### Anomaly detection"
   ]
  },
  {
   "cell_type": "code",
   "execution_count": 45,
   "metadata": {},
   "outputs": [],
   "source": [
    "# DBSCAN\n",
    "from sklearn.cluster import DBSCAN\n",
    "\n",
    "dbs = DBSCAN(eps = 0.8, metric='euclidean', min_samples=500, n_jobs=-1)\n",
    "res = dbs.fit_predict(X_presel_mcoll)\n",
    "res = pd.Series(res, index=X_presel_mcoll.index)\n",
    "dbs_data = res.loc[res!=-1].index\n",
    "dbs_noise = res.loc[res==-1].index"
   ]
  },
  {
   "cell_type": "code",
   "execution_count": 46,
   "metadata": {},
   "outputs": [
    {
     "name": "stdout",
     "output_type": "stream",
     "text": [
      "9325  outliers detected.\n"
     ]
    }
   ],
   "source": [
    "print(len(dbs_noise), ' outliers detected.')"
   ]
  },
  {
   "cell_type": "code",
   "execution_count": 47,
   "metadata": {},
   "outputs": [],
   "source": [
    "X_presel_outl = X_presel_mcoll.loc[dbs_noise]\n",
    "y_presel_outl = data.loc[dbs_noise, target]"
   ]
  },
  {
   "cell_type": "code",
   "execution_count": 48,
   "metadata": {},
   "outputs": [
    {
     "name": "stdout",
     "output_type": "stream",
     "text": [
      "Dataset length after outliers filtered:  9325\n"
     ]
    }
   ],
   "source": [
    "print('Dataset length after outliers filtered: ', len(X_presel_outl))"
   ]
  },
  {
   "cell_type": "markdown",
   "metadata": {},
   "source": [
    "### Split data into train and test sets"
   ]
  },
  {
   "cell_type": "code",
   "execution_count": 49,
   "metadata": {},
   "outputs": [],
   "source": [
    "from sklearn.model_selection import train_test_split\n",
    "X_train, X_test, y_train, y_test = train_test_split(X_presel_outl, y_presel_outl, test_size=0.5, random_state=30)"
   ]
  },
  {
   "cell_type": "markdown",
   "metadata": {},
   "source": [
    "#### Define cross validation strategy"
   ]
  },
  {
   "cell_type": "code",
   "execution_count": 50,
   "metadata": {},
   "outputs": [],
   "source": [
    "from sklearn.model_selection import RepeatedStratifiedKFold\n",
    "\n",
    "random_state=30\n",
    "cv = RepeatedStratifiedKFold(n_splits=5, n_repeats=10, random_state=random_state)\n",
    "scoring = {'accuracy': 'accuracy',\n",
    "           'roc_auc':  'roc_auc'}\n",
    "refit='roc_auc'"
   ]
  },
  {
   "cell_type": "markdown",
   "metadata": {},
   "source": [
    "#### Define function for model validation on the test set"
   ]
  },
  {
   "cell_type": "code",
   "execution_count": 51,
   "metadata": {},
   "outputs": [],
   "source": [
    "from sklearn.metrics import accuracy_score\n",
    "from sklearn.metrics import roc_auc_score\n",
    "\n",
    "def test_score(model, X_test, y_test):\n",
    "    y_pred = model.predict(X_test)\n",
    "    print('\\n Validation on the test set \\n ============================')\n",
    "    print('accuracy: ', accuracy_score(y_test, y_pred))\n",
    "    print('roc_auc: ', roc_auc_score(y_test, y_pred))"
   ]
  },
  {
   "cell_type": "markdown",
   "metadata": {},
   "source": [
    "#### Initial model"
   ]
  },
  {
   "cell_type": "code",
   "execution_count": 52,
   "metadata": {},
   "outputs": [],
   "source": [
    "from sklearn.ensemble import GradientBoostingClassifier\n",
    "# from sklearn.neighbors import KNeighborsClassifier\n",
    "from sklearn.linear_model import LogisticRegression\n",
    "from sklearn.ensemble import VotingClassifier"
   ]
  },
  {
   "cell_type": "code",
   "execution_count": 53,
   "metadata": {},
   "outputs": [
    {
     "name": "stdout",
     "output_type": "stream",
     "text": [
      "Class probabilities:\n",
      "Class 0:  0.7737022737022737\n",
      "Class 1:  0.2262977262977263\n"
     ]
    }
   ],
   "source": [
    "class_probs = [len(y_train.loc[y_train==0]) / len(y_train), len(y_train.loc[y_train==1]) / len(y_train)]\n",
    "print('Class probabilities:')\n",
    "print('Class 0: ', class_probs[0])\n",
    "print('Class 1: ', class_probs[1])"
   ]
  },
  {
   "cell_type": "code",
   "execution_count": 54,
   "metadata": {},
   "outputs": [],
   "source": [
    "sample_weight = y_train.copy().apply(lambda x: class_probs[1] if x==0 else class_probs[0])"
   ]
  },
  {
   "cell_type": "code",
   "execution_count": 55,
   "metadata": {},
   "outputs": [],
   "source": [
    "gbc = GradientBoostingClassifier(loss='deviance', \n",
    "                                criterion='friedman_mse',\n",
    "                                learning_rate=0.1,\n",
    "                                n_estimators=100,\n",
    "                                random_state=random_state)\n",
    "lr = LogisticRegression(random_state=random_state, max_iter=1000)\n",
    "\n",
    "base_estimators = [('gbc',gbc), ('lr',lr)]\n",
    "stack_model = VotingClassifier(estimators=base_estimators, voting='soft', verbose=1, n_jobs=-1)"
   ]
  },
  {
   "cell_type": "code",
   "execution_count": 56,
   "metadata": {},
   "outputs": [
    {
     "name": "stdout",
     "output_type": "stream",
     "text": [
      "CV Results \n",
      "================================\n"
     ]
    },
    {
     "data": {
      "text/html": [
       "<div>\n",
       "<style scoped>\n",
       "    .dataframe tbody tr th:only-of-type {\n",
       "        vertical-align: middle;\n",
       "    }\n",
       "\n",
       "    .dataframe tbody tr th {\n",
       "        vertical-align: top;\n",
       "    }\n",
       "\n",
       "    .dataframe thead th {\n",
       "        text-align: right;\n",
       "    }\n",
       "</style>\n",
       "<table border=\"1\" class=\"dataframe\">\n",
       "  <thead>\n",
       "    <tr style=\"text-align: right;\">\n",
       "      <th></th>\n",
       "      <th>accuracy</th>\n",
       "      <th>roc_auc</th>\n",
       "    </tr>\n",
       "  </thead>\n",
       "  <tbody>\n",
       "    <tr>\n",
       "      <th>mean_train</th>\n",
       "      <td>0.699614</td>\n",
       "      <td>0.791622</td>\n",
       "    </tr>\n",
       "    <tr>\n",
       "      <th>std_train</th>\n",
       "      <td>0.005747</td>\n",
       "      <td>0.003644</td>\n",
       "    </tr>\n",
       "    <tr>\n",
       "      <th>mean_test</th>\n",
       "      <td>0.660938</td>\n",
       "      <td>0.719954</td>\n",
       "    </tr>\n",
       "    <tr>\n",
       "      <th>std_test</th>\n",
       "      <td>0.015517</td>\n",
       "      <td>0.016215</td>\n",
       "    </tr>\n",
       "  </tbody>\n",
       "</table>\n",
       "</div>"
      ],
      "text/plain": [
       "            accuracy   roc_auc\n",
       "mean_train  0.699614  0.791622\n",
       "std_train   0.005747  0.003644\n",
       "mean_test   0.660938  0.719954\n",
       "std_test    0.015517  0.016215"
      ]
     },
     "metadata": {},
     "output_type": "display_data"
    },
    {
     "name": "stdout",
     "output_type": "stream",
     "text": [
      "\n",
      " Validation on the test set \n",
      " ============================\n",
      "accuracy:  0.6450782757881193\n",
      "roc_auc:  0.6553828524744366\n"
     ]
    }
   ],
   "source": [
    "stack_model = stack_model.fit(X_train, y_train, sample_weight=sample_weight)\n",
    "print('CV Results \\n================================')\n",
    "display(cv_rep(stack_model, X_train, y_train, cv, scoring, fit_params={'sample_weight':sample_weight}))\n",
    "test_score(stack_model, X_test, y_test)"
   ]
  },
  {
   "cell_type": "code",
   "execution_count": 57,
   "metadata": {},
   "outputs": [],
   "source": [
    "pickle.dump(stack_model, open('stack_model_cls_base.mdl', 'wb'))"
   ]
  },
  {
   "cell_type": "code",
   "execution_count": 58,
   "metadata": {},
   "outputs": [],
   "source": [
    "stack_model = pickle.load(open('stack_model_cls_base.mdl', 'rb'))"
   ]
  },
  {
   "cell_type": "markdown",
   "metadata": {},
   "source": [
    "#### Features importance"
   ]
  },
  {
   "cell_type": "code",
   "execution_count": 59,
   "metadata": {},
   "outputs": [
    {
     "name": "stdout",
     "output_type": "stream",
     "text": [
      "Class probabilities:\n",
      "Class 0:  0.7617413682178855\n",
      "Class 1:  0.2382586317821145\n"
     ]
    }
   ],
   "source": [
    "class_probs_test = [len(y_test.loc[y_test==0]) / len(y_test), len(y_test.loc[y_test==1]) / len(y_test)]\n",
    "print('Class probabilities:')\n",
    "print('Class 0: ', class_probs_test[0])\n",
    "print('Class 1: ', class_probs_test[1])"
   ]
  },
  {
   "cell_type": "code",
   "execution_count": 60,
   "metadata": {},
   "outputs": [],
   "source": [
    "sample_weight_test = y_test.apply(lambda x: class_probs_test[1] if x==0 else class_probs_test[0])"
   ]
  },
  {
   "cell_type": "code",
   "execution_count": 61,
   "metadata": {},
   "outputs": [
    {
     "data": {
      "text/html": [
       "<div>\n",
       "<style scoped>\n",
       "    .dataframe tbody tr th:only-of-type {\n",
       "        vertical-align: middle;\n",
       "    }\n",
       "\n",
       "    .dataframe tbody tr th {\n",
       "        vertical-align: top;\n",
       "    }\n",
       "\n",
       "    .dataframe thead th {\n",
       "        text-align: right;\n",
       "    }\n",
       "</style>\n",
       "<table border=\"1\" class=\"dataframe\">\n",
       "  <thead>\n",
       "    <tr style=\"text-align: right;\">\n",
       "      <th></th>\n",
       "      <th>importance</th>\n",
       "    </tr>\n",
       "    <tr>\n",
       "      <th>Feature</th>\n",
       "      <th></th>\n",
       "    </tr>\n",
       "  </thead>\n",
       "  <tbody>\n",
       "    <tr>\n",
       "      <th>pos_net_sales_12M</th>\n",
       "      <td>0.030561</td>\n",
       "    </tr>\n",
       "    <tr>\n",
       "      <th>neg_net_sales_12M</th>\n",
       "      <td>0.026221</td>\n",
       "    </tr>\n",
       "    <tr>\n",
       "      <th>new_Fund_added_12M</th>\n",
       "      <td>0.023737</td>\n",
       "    </tr>\n",
       "    <tr>\n",
       "      <th>no_of_sales_12M_1</th>\n",
       "      <td>0.018991</td>\n",
       "    </tr>\n",
       "    <tr>\n",
       "      <th>neg_net_no_of_funds_sold_12M_1</th>\n",
       "      <td>0.015886</td>\n",
       "    </tr>\n",
       "    <tr>\n",
       "      <th>pos_aum_AC_FIXED_INCOME_TAXABLE</th>\n",
       "      <td>0.008581</td>\n",
       "    </tr>\n",
       "    <tr>\n",
       "      <th>neg_net_sales_curr</th>\n",
       "      <td>0.007399</td>\n",
       "    </tr>\n",
       "    <tr>\n",
       "      <th>neg_net_no_of_fund_sales_12M_10K</th>\n",
       "      <td>0.004784</td>\n",
       "    </tr>\n",
       "    <tr>\n",
       "      <th>no_of_Redemption_12M_1</th>\n",
       "      <td>0.002611</td>\n",
       "    </tr>\n",
       "    <tr>\n",
       "      <th>neg_aum_AC_MULTIPLE</th>\n",
       "      <td>0.002195</td>\n",
       "    </tr>\n",
       "    <tr>\n",
       "      <th>pos_aum_P_CEF</th>\n",
       "      <td>0.002195</td>\n",
       "    </tr>\n",
       "    <tr>\n",
       "      <th>pos_net_no_of_fund_sales_12M_10K</th>\n",
       "      <td>0.002024</td>\n",
       "    </tr>\n",
       "    <tr>\n",
       "      <th>neg_aum_AC_FIXED_INCOME_TAXABLE</th>\n",
       "      <td>0.001687</td>\n",
       "    </tr>\n",
       "    <tr>\n",
       "      <th>neg_aum_AC_FIXED_INCOME_MUNI</th>\n",
       "      <td>0.001661</td>\n",
       "    </tr>\n",
       "    <tr>\n",
       "      <th>no_of_sales_12M_10K</th>\n",
       "      <td>0.001604</td>\n",
       "    </tr>\n",
       "    <tr>\n",
       "      <th>pos_aum_P_SMA</th>\n",
       "      <td>0.001322</td>\n",
       "    </tr>\n",
       "    <tr>\n",
       "      <th>neg_net_no_of_sales_12M_10K</th>\n",
       "      <td>0.001154</td>\n",
       "    </tr>\n",
       "    <tr>\n",
       "      <th>pos_net_no_of_assetclass_sold_12M_1</th>\n",
       "      <td>0.000785</td>\n",
       "    </tr>\n",
       "    <tr>\n",
       "      <th>pos_net_no_of_funds_sold_12M_1</th>\n",
       "      <td>0.000591</td>\n",
       "    </tr>\n",
       "    <tr>\n",
       "      <th>no_of_Redemption_12M_10K</th>\n",
       "      <td>0.000422</td>\n",
       "    </tr>\n",
       "    <tr>\n",
       "      <th>pos_aum_AC_TARGET</th>\n",
       "      <td>0.000367</td>\n",
       "    </tr>\n",
       "    <tr>\n",
       "      <th>pos_aum_AC_REAL_ESTATE</th>\n",
       "      <td>0.000282</td>\n",
       "    </tr>\n",
       "    <tr>\n",
       "      <th>redemption_curr</th>\n",
       "      <td>0.000256</td>\n",
       "    </tr>\n",
       "    <tr>\n",
       "      <th>pos_aum_P_UIT</th>\n",
       "      <td>0.000141</td>\n",
       "    </tr>\n",
       "    <tr>\n",
       "      <th>neg_net_no_of_assetclass_sold_12M_1</th>\n",
       "      <td>0.000127</td>\n",
       "    </tr>\n",
       "    <tr>\n",
       "      <th>pos_aum_AC_MULTIPLE</th>\n",
       "      <td>0.000113</td>\n",
       "    </tr>\n",
       "    <tr>\n",
       "      <th>sales_curr</th>\n",
       "      <td>0.000051</td>\n",
       "    </tr>\n",
       "    <tr>\n",
       "      <th>pos_aum_P_ETF</th>\n",
       "      <td>0.000000</td>\n",
       "    </tr>\n",
       "    <tr>\n",
       "      <th>pos_aum_AC_EQUITY</th>\n",
       "      <td>0.000000</td>\n",
       "    </tr>\n",
       "    <tr>\n",
       "      <th>neg_aum_P_529</th>\n",
       "      <td>0.000000</td>\n",
       "    </tr>\n",
       "    <tr>\n",
       "      <th>neg_aum_AC_REAL_ESTATE</th>\n",
       "      <td>0.000000</td>\n",
       "    </tr>\n",
       "    <tr>\n",
       "      <th>neg_net_no_of_assetclass_sales_12M_10K</th>\n",
       "      <td>-0.000026</td>\n",
       "    </tr>\n",
       "    <tr>\n",
       "      <th>neg_aum_P_ETF</th>\n",
       "      <td>-0.000141</td>\n",
       "    </tr>\n",
       "    <tr>\n",
       "      <th>pos_aum_AC_PHYSICAL_COMMODITY</th>\n",
       "      <td>-0.000169</td>\n",
       "    </tr>\n",
       "    <tr>\n",
       "      <th>neg_aum_AC_PHYSICAL_COMMODITY</th>\n",
       "      <td>-0.000282</td>\n",
       "    </tr>\n",
       "    <tr>\n",
       "      <th>pos_aum_P_529</th>\n",
       "      <td>-0.000448</td>\n",
       "    </tr>\n",
       "    <tr>\n",
       "      <th>pos_net_no_of_sales_12M_1</th>\n",
       "      <td>-0.000535</td>\n",
       "    </tr>\n",
       "    <tr>\n",
       "      <th>pos_net_no_of_sales_12M_10K</th>\n",
       "      <td>-0.000565</td>\n",
       "    </tr>\n",
       "    <tr>\n",
       "      <th>pos_aum_AC_FIXED_INCOME_MUNI</th>\n",
       "      <td>-0.000619</td>\n",
       "    </tr>\n",
       "    <tr>\n",
       "      <th>neg_aum_P_UIT</th>\n",
       "      <td>-0.001209</td>\n",
       "    </tr>\n",
       "    <tr>\n",
       "      <th>pos_net_no_of_assetclass_sales_12M_10K</th>\n",
       "      <td>-0.001830</td>\n",
       "    </tr>\n",
       "    <tr>\n",
       "      <th>neg_aum_P_MF</th>\n",
       "      <td>-0.002026</td>\n",
       "    </tr>\n",
       "    <tr>\n",
       "      <th>pos_net_sales_curr</th>\n",
       "      <td>-0.004419</td>\n",
       "    </tr>\n",
       "  </tbody>\n",
       "</table>\n",
       "</div>"
      ],
      "text/plain": [
       "                                        importance\n",
       "Feature                                           \n",
       "pos_net_sales_12M                         0.030561\n",
       "neg_net_sales_12M                         0.026221\n",
       "new_Fund_added_12M                        0.023737\n",
       "no_of_sales_12M_1                         0.018991\n",
       "neg_net_no_of_funds_sold_12M_1            0.015886\n",
       "pos_aum_AC_FIXED_INCOME_TAXABLE           0.008581\n",
       "neg_net_sales_curr                        0.007399\n",
       "neg_net_no_of_fund_sales_12M_10K          0.004784\n",
       "no_of_Redemption_12M_1                    0.002611\n",
       "neg_aum_AC_MULTIPLE                       0.002195\n",
       "pos_aum_P_CEF                             0.002195\n",
       "pos_net_no_of_fund_sales_12M_10K          0.002024\n",
       "neg_aum_AC_FIXED_INCOME_TAXABLE           0.001687\n",
       "neg_aum_AC_FIXED_INCOME_MUNI              0.001661\n",
       "no_of_sales_12M_10K                       0.001604\n",
       "pos_aum_P_SMA                             0.001322\n",
       "neg_net_no_of_sales_12M_10K               0.001154\n",
       "pos_net_no_of_assetclass_sold_12M_1       0.000785\n",
       "pos_net_no_of_funds_sold_12M_1            0.000591\n",
       "no_of_Redemption_12M_10K                  0.000422\n",
       "pos_aum_AC_TARGET                         0.000367\n",
       "pos_aum_AC_REAL_ESTATE                    0.000282\n",
       "redemption_curr                           0.000256\n",
       "pos_aum_P_UIT                             0.000141\n",
       "neg_net_no_of_assetclass_sold_12M_1       0.000127\n",
       "pos_aum_AC_MULTIPLE                       0.000113\n",
       "sales_curr                                0.000051\n",
       "pos_aum_P_ETF                             0.000000\n",
       "pos_aum_AC_EQUITY                         0.000000\n",
       "neg_aum_P_529                             0.000000\n",
       "neg_aum_AC_REAL_ESTATE                    0.000000\n",
       "neg_net_no_of_assetclass_sales_12M_10K   -0.000026\n",
       "neg_aum_P_ETF                            -0.000141\n",
       "pos_aum_AC_PHYSICAL_COMMODITY            -0.000169\n",
       "neg_aum_AC_PHYSICAL_COMMODITY            -0.000282\n",
       "pos_aum_P_529                            -0.000448\n",
       "pos_net_no_of_sales_12M_1                -0.000535\n",
       "pos_net_no_of_sales_12M_10K              -0.000565\n",
       "pos_aum_AC_FIXED_INCOME_MUNI             -0.000619\n",
       "neg_aum_P_UIT                            -0.001209\n",
       "pos_net_no_of_assetclass_sales_12M_10K   -0.001830\n",
       "neg_aum_P_MF                             -0.002026\n",
       "pos_net_sales_curr                       -0.004419"
      ]
     },
     "execution_count": 61,
     "metadata": {},
     "output_type": "execute_result"
    }
   ],
   "source": [
    "feature_importance_premute = importances(stack_model, X_valid=X_test, y_valid=y_test, metric=dropcol_imp_roc_auc_metric, sample_weights=sample_weight_test)\n",
    "feature_importance = feature_importance_premute.copy()\n",
    "feature_importance.columns = ['importance']\n",
    "feature_importance.sort_values(by='importance',ascending=False)"
   ]
  },
  {
   "cell_type": "code",
   "execution_count": 62,
   "metadata": {},
   "outputs": [],
   "source": [
    "feature_importance.to_csv('imp_features_cls.csv')"
   ]
  },
  {
   "cell_type": "code",
   "execution_count": 63,
   "metadata": {},
   "outputs": [],
   "source": [
    "feature_importance = pd.read_csv('imp_features_cls.csv', index_col=0)"
   ]
  },
  {
   "cell_type": "code",
   "execution_count": 64,
   "metadata": {},
   "outputs": [],
   "source": [
    "cols_imp_sorted = list(feature_importance.sort_values(by='importance',ascending=False).index) "
   ]
  },
  {
   "cell_type": "code",
   "execution_count": 65,
   "metadata": {},
   "outputs": [],
   "source": [
    "important_cols = list(feature_importance.loc[feature_importance['importance'] > 0].index)"
   ]
  },
  {
   "cell_type": "code",
   "execution_count": 66,
   "metadata": {},
   "outputs": [
    {
     "data": {
      "text/plain": [
       "['pos_net_sales_12M',\n",
       " 'neg_net_sales_12M',\n",
       " 'new_Fund_added_12M',\n",
       " 'no_of_sales_12M_1',\n",
       " 'neg_net_no_of_funds_sold_12M_1',\n",
       " 'pos_aum_AC_FIXED_INCOME_TAXABLE',\n",
       " 'neg_net_sales_curr',\n",
       " 'neg_net_no_of_fund_sales_12M_10K',\n",
       " 'no_of_Redemption_12M_1',\n",
       " 'pos_aum_P_CEF',\n",
       " 'neg_aum_AC_MULTIPLE',\n",
       " 'pos_net_no_of_fund_sales_12M_10K',\n",
       " 'neg_aum_AC_FIXED_INCOME_TAXABLE',\n",
       " 'neg_aum_AC_FIXED_INCOME_MUNI',\n",
       " 'no_of_sales_12M_10K',\n",
       " 'pos_aum_P_SMA',\n",
       " 'neg_net_no_of_sales_12M_10K',\n",
       " 'pos_net_no_of_assetclass_sold_12M_1',\n",
       " 'pos_net_no_of_funds_sold_12M_1',\n",
       " 'no_of_Redemption_12M_10K',\n",
       " 'pos_aum_AC_TARGET',\n",
       " 'pos_aum_AC_REAL_ESTATE',\n",
       " 'redemption_curr',\n",
       " 'pos_aum_P_UIT',\n",
       " 'neg_net_no_of_assetclass_sold_12M_1',\n",
       " 'pos_aum_AC_MULTIPLE',\n",
       " 'sales_curr']"
      ]
     },
     "execution_count": 66,
     "metadata": {},
     "output_type": "execute_result"
    }
   ],
   "source": [
    "important_cols"
   ]
  },
  {
   "cell_type": "code",
   "execution_count": 67,
   "metadata": {},
   "outputs": [],
   "source": [
    "X_presel_impcoll = X_presel_mcoll[important_cols]"
   ]
  },
  {
   "cell_type": "code",
   "execution_count": 68,
   "metadata": {},
   "outputs": [],
   "source": [
    "X_presel_outl1 = X_presel_impcoll.loc[dbs_noise]\n",
    "y_presel_outl1 = data.loc[dbs_noise, target]"
   ]
  },
  {
   "cell_type": "markdown",
   "metadata": {},
   "source": [
    "### Split data into train and test sets"
   ]
  },
  {
   "cell_type": "code",
   "execution_count": 69,
   "metadata": {},
   "outputs": [],
   "source": [
    "from sklearn.model_selection import train_test_split\n",
    "\n",
    "X_train1, X_test1, y_train1, y_test1 = train_test_split(X_presel_outl1, y_presel_outl1, test_size=0.5, random_state=30)"
   ]
  },
  {
   "cell_type": "code",
   "execution_count": 70,
   "metadata": {},
   "outputs": [
    {
     "name": "stdout",
     "output_type": "stream",
     "text": [
      "Class probabilities:\n",
      "Class 0:  0.7737022737022737\n",
      "Class 1:  0.2262977262977263\n"
     ]
    }
   ],
   "source": [
    "class_probs1 = [len(y_train1.loc[y_train1==0]) / len(y_train1), len(y_train1.loc[y_train1==1]) / len(y_train1)]\n",
    "print('Class probabilities:')\n",
    "print('Class 0: ', class_probs1[0])\n",
    "print('Class 1: ', class_probs1[1])"
   ]
  },
  {
   "cell_type": "code",
   "execution_count": 71,
   "metadata": {},
   "outputs": [],
   "source": [
    "sample_weight1 = y_train1.apply(lambda x: class_probs1[1] if x==0 else class_probs1[0])"
   ]
  },
  {
   "cell_type": "code",
   "execution_count": 72,
   "metadata": {},
   "outputs": [],
   "source": [
    "gbc1 = GradientBoostingClassifier(loss='deviance', \n",
    "                                criterion='friedman_mse',\n",
    "                                learning_rate=0.1,\n",
    "                                n_estimators=100,\n",
    "                                random_state=random_state)\n",
    "lr1 = LogisticRegression(random_state=random_state, max_iter=1000)\n",
    "\n",
    "base_estimators1 = [('gbc',gbc1), ('lr',lr1)]\n",
    "stack_model1 = VotingClassifier(estimators=base_estimators1, voting='soft', verbose=1, n_jobs=-1)"
   ]
  },
  {
   "cell_type": "code",
   "execution_count": 73,
   "metadata": {},
   "outputs": [
    {
     "name": "stdout",
     "output_type": "stream",
     "text": [
      "CV Results \n",
      "================================\n"
     ]
    },
    {
     "data": {
      "text/html": [
       "<div>\n",
       "<style scoped>\n",
       "    .dataframe tbody tr th:only-of-type {\n",
       "        vertical-align: middle;\n",
       "    }\n",
       "\n",
       "    .dataframe tbody tr th {\n",
       "        vertical-align: top;\n",
       "    }\n",
       "\n",
       "    .dataframe thead th {\n",
       "        text-align: right;\n",
       "    }\n",
       "</style>\n",
       "<table border=\"1\" class=\"dataframe\">\n",
       "  <thead>\n",
       "    <tr style=\"text-align: right;\">\n",
       "      <th></th>\n",
       "      <th>accuracy</th>\n",
       "      <th>roc_auc</th>\n",
       "    </tr>\n",
       "  </thead>\n",
       "  <tbody>\n",
       "    <tr>\n",
       "      <th>mean_train</th>\n",
       "      <td>0.694396</td>\n",
       "      <td>0.786160</td>\n",
       "    </tr>\n",
       "    <tr>\n",
       "      <th>std_train</th>\n",
       "      <td>0.005803</td>\n",
       "      <td>0.003627</td>\n",
       "    </tr>\n",
       "    <tr>\n",
       "      <th>mean_test</th>\n",
       "      <td>0.660746</td>\n",
       "      <td>0.721738</td>\n",
       "    </tr>\n",
       "    <tr>\n",
       "      <th>std_test</th>\n",
       "      <td>0.014115</td>\n",
       "      <td>0.015540</td>\n",
       "    </tr>\n",
       "  </tbody>\n",
       "</table>\n",
       "</div>"
      ],
      "text/plain": [
       "            accuracy   roc_auc\n",
       "mean_train  0.694396  0.786160\n",
       "std_train   0.005803  0.003627\n",
       "mean_test   0.660746  0.721738\n",
       "std_test    0.014115  0.015540"
      ]
     },
     "metadata": {},
     "output_type": "display_data"
    },
    {
     "name": "stdout",
     "output_type": "stream",
     "text": [
      "\n",
      " Validation on the test set \n",
      " ============================\n",
      "accuracy:  0.6515119022088784\n",
      "roc_auc:  0.666100689460838\n"
     ]
    }
   ],
   "source": [
    "stack_model1 = stack_model1.fit(X_train1, y_train1, sample_weight=sample_weight1)\n",
    "print('CV Results \\n================================')\n",
    "display(cv_rep(stack_model1, X_train1, y_train1, cv, scoring, fit_params={'sample_weight':sample_weight1}))\n",
    "test_score(stack_model1, X_test1, y_test1)"
   ]
  },
  {
   "cell_type": "code",
   "execution_count": 74,
   "metadata": {},
   "outputs": [],
   "source": [
    "pickle.dump(stack_model1, open('stack_model_cls_imp.mdl', 'wb'))"
   ]
  },
  {
   "cell_type": "code",
   "execution_count": 75,
   "metadata": {},
   "outputs": [],
   "source": [
    "stack_model1 = pickle.load(open('stack_model_cls_imp.mdl', 'rb'))"
   ]
  },
  {
   "cell_type": "markdown",
   "metadata": {},
   "source": [
    "#### Compare models before and after feature importance study"
   ]
  },
  {
   "cell_type": "code",
   "execution_count": 181,
   "metadata": {},
   "outputs": [
    {
     "data": {
      "image/png": "[encoded data removed]",
      "text/plain": [
       "<Figure size 576x288 with 2 Axes>"
      ]
     },
     "metadata": {
      "needs_background": "light"
     },
     "output_type": "display_data"
    }
   ],
   "source": [
    "fig = plt.figure()\n",
    "fig.set_size_inches(8, 4)\n",
    "plot_confusion_matrix(stack_model, X_test, y_test, ax=fig.add_subplot(1,2,1), normalize=True, title='All features')\n",
    "plot_confusion_matrix(stack_model1, X_test1, y_test1, ax=fig.add_subplot(1,2,2), normalize=True, title='Important features')\n",
    "plt.savefig('temp.jpg')"
   ]
  },
  {
   "cell_type": "code",
   "execution_count": 82,
   "metadata": {},
   "outputs": [
    {
     "data": {
      "image/png": "[encoded data removed]",
      "text/plain": [
       "<Figure size 288x288 with 1 Axes>"
      ]
     },
     "metadata": {
      "needs_background": "light"
     },
     "output_type": "display_data"
    }
   ],
   "source": [
    "fig = plt.figure()\n",
    "fig.set_size_inches(4, 4)\n",
    "plot_confusion_matrix(stack_model1, X_test1, y_test1, ax=fig.add_subplot(1,1,1), normalize=True, title='Confusion Matrix')\n",
    "plt.savefig('temp.jpg')"
   ]
  },
  {
   "cell_type": "code",
   "execution_count": 182,
   "metadata": {},
   "outputs": [
    {
     "data": {
      "image/png": "[encoded data removed]",
      "text/plain": [
       "<Figure size 576x288 with 1 Axes>"
      ]
     },
     "metadata": {
      "needs_background": "light"
     },
     "output_type": "display_data"
    }
   ],
   "source": [
    "fig = plt.figure()\n",
    "fig.set_size_inches(8, 4)\n",
    "deciles = plot_cls_ratio_deciles([stack_model, stack_model1], [X_test, X_test1], [y_test, y_test1], [X_test.index, X_test1.index], \n",
    "                                 ax=fig.add_subplot(1,1,1), by_class=1, cumulative=True, title='CORRECT PREDICTIONS RATE',\n",
    "                                 legend=['All features (class 1)', 'All features (class 0)',\n",
    "                                         'Important features (class 1)', 'Important features (class 0)'])\n",
    "plt.savefig('temp.jpg')"
   ]
  },
  {
   "cell_type": "code",
   "execution_count": 78,
   "metadata": {},
   "outputs": [
    {
     "data": {
      "image/png": "[encoded data removed]",
      "text/plain": [
       "<Figure size 576x288 with 1 Axes>"
      ]
     },
     "metadata": {
      "needs_background": "light"
     },
     "output_type": "display_data"
    }
   ],
   "source": [
    "fig = plt.figure()\n",
    "fig.set_size_inches(8, 4)\n",
    "deciles = plot_cls_ratio_deciles([stack_model], [X_test], [y_test], [X_test.index], \n",
    "                                 ax=fig.add_subplot(1,1,1), by_class=1, cumulative=True, title='CORRECT PREDICTIONS RATE',\n",
    "                                 legend=['New fund added (class 1)', 'New fund NOT added (class 0)'], colors=[['tab:blue', 'tab:orange']])\n",
    "plt.savefig('temp.jpg')"
   ]
  },
  {
   "cell_type": "markdown",
   "metadata": {},
   "source": [
    "### Results analysis"
   ]
  },
  {
   "cell_type": "code",
   "execution_count": 118,
   "metadata": {},
   "outputs": [
    {
     "name": "stdout",
     "output_type": "stream",
     "text": [
      "4663 4663\n"
     ]
    }
   ],
   "source": [
    "print(len(data_raw.loc[X_test1.index]), len(X_test1))"
   ]
  },
  {
   "cell_type": "code",
   "execution_count": 171,
   "metadata": {},
   "outputs": [
    {
     "name": "stdout",
     "output_type": "stream",
     "text": [
      "Total population:  4663\n",
      "Total mean:  0.4545819224827885 \n",
      "\n"
     ]
    },
    {
     "data": {
      "text/html": [
       "<div>\n",
       "<style scoped>\n",
       "    .dataframe tbody tr th:only-of-type {\n",
       "        vertical-align: middle;\n",
       "    }\n",
       "\n",
       "    .dataframe tbody tr th {\n",
       "        vertical-align: top;\n",
       "    }\n",
       "\n",
       "    .dataframe thead th {\n",
       "        text-align: right;\n",
       "    }\n",
       "</style>\n",
       "<table border=\"1\" class=\"dataframe\">\n",
       "  <thead>\n",
       "    <tr style=\"text-align: right;\">\n",
       "      <th></th>\n",
       "      <th>n_samples</th>\n",
       "      <th>dec_mean_proba</th>\n",
       "      <th>dec_lift_ovr_mean</th>\n",
       "      <th>n_cum_samples</th>\n",
       "      <th>cum_mean_proba</th>\n",
       "      <th>cum_lift_ovr_mean</th>\n",
       "    </tr>\n",
       "  </thead>\n",
       "  <tbody>\n",
       "    <tr>\n",
       "      <th>0</th>\n",
       "      <td>466.0</td>\n",
       "      <td>0.776592</td>\n",
       "      <td>0.708365</td>\n",
       "      <td>466.0</td>\n",
       "      <td>0.776592</td>\n",
       "      <td>0.708365</td>\n",
       "    </tr>\n",
       "    <tr>\n",
       "      <th>1</th>\n",
       "      <td>466.0</td>\n",
       "      <td>0.656681</td>\n",
       "      <td>0.444583</td>\n",
       "      <td>932.0</td>\n",
       "      <td>0.716637</td>\n",
       "      <td>0.576474</td>\n",
       "    </tr>\n",
       "    <tr>\n",
       "      <th>2</th>\n",
       "      <td>466.0</td>\n",
       "      <td>0.592699</td>\n",
       "      <td>0.303833</td>\n",
       "      <td>1398.0</td>\n",
       "      <td>0.675324</td>\n",
       "      <td>0.485594</td>\n",
       "    </tr>\n",
       "    <tr>\n",
       "      <th>3</th>\n",
       "      <td>466.0</td>\n",
       "      <td>0.541863</td>\n",
       "      <td>0.192002</td>\n",
       "      <td>1864.0</td>\n",
       "      <td>0.641959</td>\n",
       "      <td>0.412196</td>\n",
       "    </tr>\n",
       "    <tr>\n",
       "      <th>4</th>\n",
       "      <td>466.0</td>\n",
       "      <td>0.495578</td>\n",
       "      <td>0.090184</td>\n",
       "      <td>2330.0</td>\n",
       "      <td>0.612683</td>\n",
       "      <td>0.347793</td>\n",
       "    </tr>\n",
       "    <tr>\n",
       "      <th>5</th>\n",
       "      <td>466.0</td>\n",
       "      <td>0.445186</td>\n",
       "      <td>-0.020670</td>\n",
       "      <td>2796.0</td>\n",
       "      <td>0.584766</td>\n",
       "      <td>0.286383</td>\n",
       "    </tr>\n",
       "    <tr>\n",
       "      <th>6</th>\n",
       "      <td>466.0</td>\n",
       "      <td>0.349816</td>\n",
       "      <td>-0.230466</td>\n",
       "      <td>3262.0</td>\n",
       "      <td>0.551202</td>\n",
       "      <td>0.212547</td>\n",
       "    </tr>\n",
       "    <tr>\n",
       "      <th>7</th>\n",
       "      <td>466.0</td>\n",
       "      <td>0.240975</td>\n",
       "      <td>-0.469898</td>\n",
       "      <td>3728.0</td>\n",
       "      <td>0.512424</td>\n",
       "      <td>0.127242</td>\n",
       "    </tr>\n",
       "    <tr>\n",
       "      <th>8</th>\n",
       "      <td>466.0</td>\n",
       "      <td>0.227583</td>\n",
       "      <td>-0.499357</td>\n",
       "      <td>4194.0</td>\n",
       "      <td>0.480775</td>\n",
       "      <td>0.057619</td>\n",
       "    </tr>\n",
       "    <tr>\n",
       "      <th>9</th>\n",
       "      <td>469.0</td>\n",
       "      <td>0.220355</td>\n",
       "      <td>-0.515258</td>\n",
       "      <td>4663.0</td>\n",
       "      <td>0.454582</td>\n",
       "      <td>0.000000</td>\n",
       "    </tr>\n",
       "  </tbody>\n",
       "</table>\n",
       "</div>"
      ],
      "text/plain": [
       "   n_samples  dec_mean_proba  dec_lift_ovr_mean  n_cum_samples  \\\n",
       "0      466.0        0.776592           0.708365          466.0   \n",
       "1      466.0        0.656681           0.444583          932.0   \n",
       "2      466.0        0.592699           0.303833         1398.0   \n",
       "3      466.0        0.541863           0.192002         1864.0   \n",
       "4      466.0        0.495578           0.090184         2330.0   \n",
       "5      466.0        0.445186          -0.020670         2796.0   \n",
       "6      466.0        0.349816          -0.230466         3262.0   \n",
       "7      466.0        0.240975          -0.469898         3728.0   \n",
       "8      466.0        0.227583          -0.499357         4194.0   \n",
       "9      469.0        0.220355          -0.515258         4663.0   \n",
       "\n",
       "   cum_mean_proba  cum_lift_ovr_mean  \n",
       "0        0.776592           0.708365  \n",
       "1        0.716637           0.576474  \n",
       "2        0.675324           0.485594  \n",
       "3        0.641959           0.412196  \n",
       "4        0.612683           0.347793  \n",
       "5        0.584766           0.286383  \n",
       "6        0.551202           0.212547  \n",
       "7        0.512424           0.127242  \n",
       "8        0.480775           0.057619  \n",
       "9        0.454582           0.000000  "
      ]
     },
     "execution_count": 171,
     "metadata": {},
     "output_type": "execute_result"
    }
   ],
   "source": [
    "y1, total_mean, lift = get_lift_chart_proba(stack_model1, data_raw.loc[X_test1.index], X_test1, by_class=1)\n",
    "print('Total population: ', len(X_test1))\n",
    "print('Total mean: ', total_mean, '\\n')\n",
    "lift"
   ]
  },
  {
   "cell_type": "code",
   "execution_count": 85,
   "metadata": {},
   "outputs": [],
   "source": [
    "lift.to_csv('NewFund_cls_lift.csv')"
   ]
  },
  {
   "cell_type": "code",
   "execution_count": 183,
   "metadata": {},
   "outputs": [],
   "source": [
    "y1.to_csv('NewFund_clc_test_data_deciles.csv')"
   ]
  },
  {
   "cell_type": "code",
   "execution_count": 179,
   "metadata": {},
   "outputs": [
    {
     "data": {
      "text/plain": [
       "['pos_net_sales_12M',\n",
       " 'neg_net_sales_12M',\n",
       " 'new_Fund_added_12M',\n",
       " 'no_of_sales_12M_1',\n",
       " 'neg_net_no_of_funds_sold_12M_1',\n",
       " 'pos_aum_AC_FIXED_INCOME_TAXABLE',\n",
       " 'neg_net_sales_curr',\n",
       " 'neg_net_no_of_fund_sales_12M_10K',\n",
       " 'no_of_Redemption_12M_1',\n",
       " 'pos_aum_P_CEF',\n",
       " 'neg_aum_AC_MULTIPLE',\n",
       " 'pos_net_no_of_fund_sales_12M_10K',\n",
       " 'neg_aum_AC_FIXED_INCOME_TAXABLE',\n",
       " 'neg_aum_AC_FIXED_INCOME_MUNI',\n",
       " 'no_of_sales_12M_10K',\n",
       " 'pos_aum_P_SMA',\n",
       " 'neg_net_no_of_sales_12M_10K',\n",
       " 'pos_net_no_of_assetclass_sold_12M_1',\n",
       " 'pos_net_no_of_funds_sold_12M_1',\n",
       " 'no_of_Redemption_12M_10K',\n",
       " 'pos_aum_AC_TARGET',\n",
       " 'pos_aum_AC_REAL_ESTATE',\n",
       " 'redemption_curr',\n",
       " 'pos_aum_P_UIT',\n",
       " 'neg_net_no_of_assetclass_sold_12M_1',\n",
       " 'pos_aum_AC_MULTIPLE',\n",
       " 'sales_curr']"
      ]
     },
     "execution_count": 179,
     "metadata": {},
     "output_type": "execute_result"
    }
   ],
   "source": [
    "important_cols"
   ]
  },
  {
   "cell_type": "code",
   "execution_count": 96,
   "metadata": {},
   "outputs": [],
   "source": [
    "# # data1 = data_raw.copy()\n",
    "# data1 = y1.copy()\n",
    "# # data1['sales_12M_preds'] = stack_model1.predict_proba(data[X_test1.columns])\n",
    "# p = stack_model1.predict_proba(data_raw[X_test1.columns])\n",
    "# data1['proba_not_add_new_fund_2019'] = p[:,0]\n",
    "# data1['proba_add_new_fund_2019'] = p[:,1]\n",
    "# # data1['delta_sales_12M_18_preds'] = (data1['sales_12M_preds'] - data1['sales_12M'])"
   ]
  },
  {
   "cell_type": "code",
   "execution_count": 97,
   "metadata": {},
   "outputs": [],
   "source": [
    "# data2 = data1.copy()"
   ]
  },
  {
   "cell_type": "code",
   "execution_count": 174,
   "metadata": {},
   "outputs": [],
   "source": [
    "data2 = y1.copy()"
   ]
  },
  {
   "cell_type": "code",
   "execution_count": 98,
   "metadata": {},
   "outputs": [],
   "source": [
    "data2 = data1.copy()\n",
    "data2['aum_ac_sum'] = data2['aum_AC_FIXED_INCOME_TAXABLE'] + data2['aum_AC_FIXED_INCOME_MUNI'] + data2['aum_AC_TARGET'] + data2['aum_AC_REAL_ESTATE'] + data2['aum_AC_MULTIPLE'] + data2['aum_AC_PHYSICAL_COMMODITY']\n",
    "data2['pos_ac_aum_sum'] = data2['pos_aum_AC_FIXED_INCOME_TAXABLE'] + data2['pos_aum_AC_EQUITY'] + data2['pos_aum_AC_TARGET'] + data2['pos_aum_AC_REAL_ESTATE'] + data2['pos_aum_AC_MULTIPLE'] + data2['pos_aum_AC_PHYSICAL_COMMODITY']\n",
    "data2['neg_ac_aum_sum'] = data2['neg_aum_AC_FIXED_INCOME_TAXABLE'] + data2['neg_aum_AC_EQUITY'] + data2['neg_aum_AC_TARGET'] + data2['neg_aum_AC_REAL_ESTATE'] + data2['neg_aum_AC_MULTIPLE'] + data2['neg_aum_AC_PHYSICAL_COMMODITY']"
   ]
  },
  {
   "cell_type": "code",
   "execution_count": 99,
   "metadata": {},
   "outputs": [],
   "source": [
    "# data2 = data_raw.copy()\n",
    "data2['aum_p_sum'] = data2['aum_P_SMA'] + data2['aum_P_CEF'] + data2['aum_P_ETF'] + data2['aum_P_MF'] + data2['aum_P_UIT'] + data2['aum_P_529']\n",
    "data2['pos_p_aum_sum'] = data2['pos_aum_P_SMA'] + data2['pos_aum_P_CEF'] + data2['pos_aum_P_ETF'] + data2['pos_aum_P_MF'] + data2['pos_aum_P_UIT'] + data2['pos_aum_P_529']\n",
    "data2['neg_p_aum_sum'] = data2['neg_aum_P_SMA'] + data2['neg_aum_P_CEF'] + data2['neg_aum_P_ETF'] + data2['neg_aum_P_MF'] + data2['neg_aum_P_UIT'] + data2['neg_aum_P_529']"
   ]
  },
  {
   "cell_type": "code",
   "execution_count": 100,
   "metadata": {},
   "outputs": [],
   "source": [
    "data2['aum_sum'] = data2['aum_ac_sum'] + data2['aum_p_sum']\n",
    "data2['pos_aum_sum'] = data2['pos_ac_aum_sum'] + data2['pos_p_aum_sum']\n",
    "data2['neg_aum_sum'] = data2['neg_ac_aum_sum'] + data2['neg_p_aum_sum']"
   ]
  },
  {
   "cell_type": "code",
   "execution_count": 177,
   "metadata": {},
   "outputs": [
    {
     "data": {
      "image/png": "[encoded data removed]",
      "text/plain": [
       "<Figure size 1440x576 with 4 Axes>"
      ]
     },
     "metadata": {
      "needs_background": "light"
     },
     "output_type": "display_data"
    }
   ],
   "source": [
    "fig = plt.figure()\n",
    "fig.set_size_inches(20, 8)\n",
    "\n",
    "ax=fig.add_subplot(2,2,1)\n",
    "plot_diagram_deciles(data2, y='net_sales_12M', ax=ax, y_title='Net sales ($)', title='')\n",
    "\n",
    "ax=fig.add_subplot(2,2,2)\n",
    "plot_diagram_deciles(data2, y='new_Fund_added_12M', ax=ax, y_title='Number of funds', title='')\n",
    "\n",
    "ax=fig.add_subplot(2,2,3)\n",
    "plot_diagram_deciles(data2, y='no_of_sales_12M_1', ax=ax, y_title='Number of sales', title='')\n",
    "\n",
    "ax=fig.add_subplot(2,2,4)\n",
    "plot_diagram_deciles(data2, y='pos_AUM', ax=ax, y_title='AUM ($)', title='')\n",
    "\n",
    "# ax=fig.add_subplot(3,2,5)\n",
    "# plot_diagram_xy(data2, x='pos_aum_AC_FIXED_INCOME_MUNI', y='sales_12M_target', ax=ax, x_title='Deciles: pos_aum_AC_FIXED_INCOME_MUNI per advisor', \n",
    "#                 y_title='Sales ($) target', title='', tick_labelsIprefix='$')\n",
    "\n",
    "# ax=fig.add_subplot(3,2,6)\n",
    "# plot_diagram_xy(data2, x='no_of_Redemption_12M_1', y='sales_12M_target', ax=ax, x_title='Deciles: no_of_Redemption_12M_1 per advisor', \n",
    "#                 y_title='Sales ($) target', title='', tick_labelsIprefix='$')\n",
    "\n",
    "plt.savefig('temp.jpg')"
   ]
  },
  {
   "cell_type": "code",
   "execution_count": 106,
   "metadata": {},
   "outputs": [
    {
     "data": {
      "image/png": "[encoded data removed]",
      "text/plain": [
       "<Figure size 1296x576 with 4 Axes>"
      ]
     },
     "metadata": {
      "needs_background": "light"
     },
     "output_type": "display_data"
    }
   ],
   "source": [
    "fig = plt.figure()\n",
    "fig.set_size_inches(18, 8)\n",
    "\n",
    "ax=fig.add_subplot(2,2,1)\n",
    "plot_diagram_xy(data2, \n",
    "                x='pos_net_sales_12M', y='proba_add_new_fund_2019', ax=ax, x_title='Deciles: pos_net_sales_12M per advisor', \n",
    "                y_title='Probability of adding new fund', title='', tick_labelsIprefix='$')\n",
    "\n",
    "ax=fig.add_subplot(2,2,2)\n",
    "plot_diagram_xy(data2, \n",
    "                x='neg_net_sales_12M', y='proba_add_new_fund_2019', ax=ax, x_title='Deciles: neg_net_sales_12M per advisor', \n",
    "                y_title='Probability of adding new fund', title='', tick_labelsIprefix='$')\n",
    "\n",
    "ax=fig.add_subplot(2,2,3)\n",
    "plot_diagram_xy(data2, \n",
    "                x='new_Fund_added_12M', y='proba_add_new_fund_2019', ax=ax, x_title='Deciles: new_Fund_added_12M per advisor', \n",
    "                y_title='Probability of adding new fund', title='', tick_labelsIprefix='')\n",
    "\n",
    "ax=fig.add_subplot(2,2,4)\n",
    "plot_diagram_xy(data2, \n",
    "                x='no_of_sales_12M_1', y='proba_add_new_fund_2019', ax=ax, x_title='Deciles: no_of_sales_12M_1 per advisor', \n",
    "                y_title='Probability of adding new fund', title='', tick_labelsIprefix='')\n",
    "\n",
    "plt.savefig('temp.jpg')"
   ]
  },
  {
   "cell_type": "code",
   "execution_count": 102,
   "metadata": {},
   "outputs": [
    {
     "data": {
      "image/png": "[encoded data removed]",
      "text/plain": [
       "<Figure size 1296x576 with 4 Axes>"
      ]
     },
     "metadata": {
      "needs_background": "light"
     },
     "output_type": "display_data"
    }
   ],
   "source": [
    "fig = plt.figure()\n",
    "fig.set_size_inches(18, 8)\n",
    "\n",
    "ax=fig.add_subplot(2,2,1)\n",
    "plot_diagram_xy(data2, \n",
    "                x='neg_net_no_of_funds_sold_12M_1', y='proba_add_new_fund_2019', ax=ax, x_title='Deciles: neg_net_no_of_funds_sold_12M_1 per advisor', \n",
    "                y_title='Probability of adding new fund', title='', tick_labelsIprefix='')\n",
    "\n",
    "ax=fig.add_subplot(2,2,2)\n",
    "plot_diagram_xy(data2, \n",
    "                x='pos_aum_AC_FIXED_INCOME_TAXABLE', y='proba_add_new_fund_2019', ax=ax, x_title='Deciles: pos_aum_AC_FIXED_INCOME_TAXABLE per advisor', \n",
    "                y_title='Probability of adding new fund', title='', tick_labelsIprefix='$')\n",
    "\n",
    "ax=fig.add_subplot(2,2,3)\n",
    "plot_diagram_xy(data2, \n",
    "                x='neg_net_sales_curr', y='proba_add_new_fund_2019', ax=ax, x_title='Deciles: neg_net_sales_curr per advisor', \n",
    "                y_title='Probability of adding new fund', title='', tick_labelsIprefix='')\n",
    "\n",
    "ax=fig.add_subplot(2,2,4)\n",
    "plot_diagram_xy(data2, \n",
    "                x='neg_net_no_of_fund_sales_12M_10K', y='proba_add_new_fund_2019', ax=ax, x_title='Deciles: neg_net_no_of_fund_sales_12M_10K per advisor', \n",
    "                y_title='Probability of adding new fund', title='', tick_labelsIprefix='')\n",
    "\n",
    "plt.savefig('temp.jpg')"
   ]
  },
  {
   "cell_type": "code",
   "execution_count": 137,
   "metadata": {},
   "outputs": [
    {
     "data": {
      "image/png": "[encoded data removed]",
      "text/plain": [
       "<Figure size 864x576 with 2 Axes>"
      ]
     },
     "metadata": {
      "needs_background": "light"
     },
     "output_type": "display_data"
    }
   ],
   "source": [
    "fig = plt.figure()\n",
    "fig.set_size_inches(12, 8)\n",
    "\n",
    "ax=fig.add_subplot(2,1,1)\n",
    "plot_diagram_xy(data2, \n",
    "                x='new_Fund_added_12M', \n",
    "                y='proba_add_new_fund_2019', \n",
    "                ax=ax, \n",
    "                x_title='Number of new funds added in the last 12 months excluding current month', \n",
    "                y_title='Probability of adding new fund', title='')\n",
    "\n",
    "ax=fig.add_subplot(2,1,2)\n",
    "plot_diagram_xy(data2, \n",
    "                x='net_no_of_sales_12M_1', \n",
    "                y='proba_add_new_fund_2019', \n",
    "                ax=ax, \n",
    "                x_title='Net number of sales in last 12 months that more than $1', \n",
    "                y_title='Probability of adding new fund', title='')\n",
    "\n",
    "plt.savefig('temp.jpg')"
   ]
  },
  {
   "cell_type": "code",
   "execution_count": 145,
   "metadata": {},
   "outputs": [
    {
     "data": {
      "image/png": "[encoded data removed]",
      "text/plain": [
       "<Figure size 864x576 with 2 Axes>"
      ]
     },
     "metadata": {
      "needs_background": "light"
     },
     "output_type": "display_data"
    }
   ],
   "source": [
    "fig = plt.figure()\n",
    "fig.set_size_inches(12, 8)\n",
    "\n",
    "ax=fig.add_subplot(2,1,1)\n",
    "plot_diagram_xy(data2, \n",
    "                x='net_no_of_funds_sold_12M_1', \n",
    "                y='proba_add_new_fund_2019', \n",
    "                ax=ax, \n",
    "                x_title='Net number of funds sold to FA in last 12 months that more than $1', \n",
    "                y_title='Probability of adding new fund', title='')\n",
    "\n",
    "ax=fig.add_subplot(2,1,2)\n",
    "plot_diagram_xy(data2, \n",
    "                x='net_no_of_fund_sales_12M_10K', \n",
    "                y='proba_add_new_fund_2019', \n",
    "                ax=ax, \n",
    "                x_title='Net number of funds sold to FA in last 12 months that more than $10K', \n",
    "                y_title='Probability of adding new fund', title='')\n",
    "\n",
    "plt.savefig('temp.jpg')"
   ]
  },
  {
   "cell_type": "code",
   "execution_count": 147,
   "metadata": {},
   "outputs": [
    {
     "data": {
      "image/png": "[encoded data removed]",
      "text/plain": [
       "<Figure size 864x576 with 2 Axes>"
      ]
     },
     "metadata": {
      "needs_background": "light"
     },
     "output_type": "display_data"
    }
   ],
   "source": [
    "fig = plt.figure()\n",
    "fig.set_size_inches(12, 8)\n",
    "\n",
    "ax=fig.add_subplot(2,1,1)\n",
    "plot_diagram_xy(data2, \n",
    "                x='net_no_of_assetclass_sold_12M_1', \n",
    "                y='proba_add_new_fund_2019', \n",
    "                ax=ax, \n",
    "                x_title='Net Number of asset class sold to FA in last 12 months that more than $1', \n",
    "                y_title='Probability of adding new fund', title='')\n",
    "\n",
    "ax=fig.add_subplot(2,1,2)\n",
    "plot_diagram_xy(data2, \n",
    "                x='net_no_of_assetclass_sales_12M_10K', \n",
    "                y='proba_add_new_fund_2019', \n",
    "                ax=ax, \n",
    "                x_title='Net Number of asset class sold to FA in last 12 months that more than $10K', \n",
    "                y_title='Probability of adding new fund', title='')\n",
    "\n",
    "plt.savefig('temp.jpg')"
   ]
  },
  {
   "cell_type": "code",
   "execution_count": 141,
   "metadata": {},
   "outputs": [
    {
     "data": {
      "image/png": "[encoded data removed]",
      "text/plain": [
       "<Figure size 864x576 with 2 Axes>"
      ]
     },
     "metadata": {
      "needs_background": "light"
     },
     "output_type": "display_data"
    }
   ],
   "source": [
    "fig = plt.figure()\n",
    "fig.set_size_inches(12, 8)\n",
    "\n",
    "ax=fig.add_subplot(2,1,1)\n",
    "plot_diagram_xy(data2, \n",
    "                x='net_no_of_sales_12M_10K', \n",
    "                y='proba_add_new_fund_2019', \n",
    "                ax=ax, \n",
    "                x_title='Net number of sales in last 12 months that more than $10K', \n",
    "                y_title='Probability of adding new fund', title='')\n",
    "\n",
    "ax=fig.add_subplot(2,1,2)\n",
    "plot_diagram_xy(data2, \n",
    "                x='net_no_of_sales_12M_1', \n",
    "                y='proba_add_new_fund_2019', \n",
    "                ax=ax, \n",
    "                x_title='Net number of sales in last 12 months that more than $1', \n",
    "                y_title='Probability of adding new fund', title='')\n",
    "\n",
    "plt.savefig('temp.jpg')"
   ]
  },
  {
   "cell_type": "code",
   "execution_count": 148,
   "metadata": {},
   "outputs": [
    {
     "data": {
      "image/png": "[encoded data removed]",
      "text/plain": [
       "<Figure size 864x576 with 2 Axes>"
      ]
     },
     "metadata": {
      "needs_background": "light"
     },
     "output_type": "display_data"
    }
   ],
   "source": [
    "fig = plt.figure()\n",
    "fig.set_size_inches(12, 8)\n",
    "\n",
    "ax=fig.add_subplot(2,1,1)\n",
    "plot_diagram_xy(data2, \n",
    "                x='pos_ac_aum_sum', \n",
    "                y='proba_add_new_fund_2019', \n",
    "                ax=ax, \n",
    "                x_title='Total AUM (asset class)', \n",
    "                y_title='Probability of adding new fund', title='')\n",
    "\n",
    "ax=fig.add_subplot(2,1,2)\n",
    "plot_diagram_xy(data2, \n",
    "                x='pos_p_aum_sum', \n",
    "                y='proba_add_new_fund_2019', \n",
    "                ax=ax, \n",
    "                x_title='Total AUM (product type)', \n",
    "                y_title='Probability of adding new fund', title='')\n",
    "\n",
    "plt.savefig('temp.jpg')"
   ]
  },
  {
   "cell_type": "markdown",
   "metadata": {},
   "source": [
    "#### Conclusions\n",
    "\n",
    "1. Advisors with higher total sales in current month have slightly higher probability of adding new fund in next 12 months.\n",
    "2. Advisors that have smaller number of sales that more than \\\\$1 in the last 12 months are more likely to add a new fund in next year.\n",
    "3. Advisors who added more funds in the last 12 months are likely to add a new fund in next year. However, those advisors who have highest number of funds added in the last 12 months are less probable to add a new fund in next year.\n",
    "4. Advisors with higher total AUM in asset class MULTIPLE, FIXED INCOME TAXABLE, TARGET and REAL ESTATE have less probability of adding new fund in next 12 months. However, advisors with higher total AUM in product class UIT and MF have higher probability of adding new fund in next 12 months."
   ]
  },
  {
   "cell_type": "code",
   "execution_count": null,
   "metadata": {},
   "outputs": [],
   "source": []
  }
 ],
 "metadata": {
  "kernelspec": {
   "display_name": "Python 3",
   "language": "python",
   "name": "python3"
  },
  "language_info": {
   "codemirror_mode": {
    "name": "ipython",
    "version": 3
   },
   "file_extension": ".py",
   "mimetype": "text/x-python",
   "name": "python",
   "nbconvert_exporter": "python",
   "pygments_lexer": "ipython3",
   "version": "3.8.5"
  }
 },
 "nbformat": 4,
 "nbformat_minor": 4
}
