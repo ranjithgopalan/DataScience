{
  "nbformat": 4,
  "nbformat_minor": 0,
  "metadata": {
    "kernelspec": {
      "display_name": "Python 3",
      "language": "python",
      "name": "python3"
    },
    "language_info": {
      "codemirror_mode": {
        "name": "ipython",
        "version": 3
      },
      "file_extension": ".py",
      "mimetype": "text/x-python",
      "name": "python",
      "nbconvert_exporter": "python",
      "pygments_lexer": "ipython3",
      "version": "3.8.3"
    },
    "colab": {
      "name": "Covid19Analysis_Production.ipynb",
      "provenance": [],
      "include_colab_link": true
    }
  },
  "cells": [
    {
      "cell_type": "markdown",
      "metadata": {
        "id": "view-in-github",
        "colab_type": "text"
      },
      "source": [
        "<a href=\"https://colab.research.google.com/github/ranjithgopalan/DataScience/blob/master/Covid19Analysis_Production.ipynb\" target=\"_parent\"><img src=\"https://colab.research.google.com/assets/colab-badge.svg\" alt=\"Open In Colab\"/></a>"
      ]
    },
    {
      "cell_type": "code",
      "metadata": {
        "id": "qBJYCTUmvOgF",
        "colab_type": "code",
        "colab": {}
      },
      "source": [
        "import json\n",
        "import requests \n",
        "import pandas as pd\n",
        "import flask\n",
        "import os\n",
        "import time\n",
        "import uuid\n",
        "import numpy \n",
        "import json2html\n",
        "%config IPCompleter.greedy=True\n",
        "from pandas.io.json import json_normalize\n",
        "from flask import Flask\n",
        "from flask import render_template\n",
        "from json2html import *\n",
        "from flask import request"
      ],
      "execution_count": null,
      "outputs": []
    },
    {
      "cell_type": "code",
      "metadata": {
        "id": "hVNkxqtEvOgO",
        "colab_type": "code",
        "colab": {},
        "outputId": "0e85f35a-a3c5-4927-fa71-4d0b63368284"
      },
      "source": [
        "#Convert to just country names\n",
        "CountryResponse = requests.get(\"https://api.covid19api.com/countries\")\n",
        "if CountryResponse.status_code == 200:\n",
        "    Countrydata = CountryResponse.json()\n",
        "\n",
        "DataFrame_Country = pd.DataFrame([dict(Country=datum['Country'])\n",
        "                   for datum in Countrydata ])\n",
        "\n",
        "\n",
        "\n",
        "# update recovery and death rate \n",
        "covidSummaryResponse = requests.get(\"https://api.covid19api.com/summary\")\n",
        "if covidSummaryResponse.status_code == 200:\n",
        "    data = covidSummaryResponse.json()\n",
        "    DataFrame_CovidTotalSummary = pd.DataFrame(\n",
        "    {\"NewConfirmed\":data['Global']['NewConfirmed'],\"TotalConfirmed\" : data['Global']['TotalConfirmed'],\n",
        "         \"NewDeaths\": data['Global']['NewDeaths'], \"NewRecovered\":data['Global']['NewRecovered'],\n",
        "     \"TotalRecovered\":data['Global']['TotalRecovered'],\"RecoveredPercent\":\n",
        "     round((data['Global']['TotalRecovered']/data['Global']['TotalConfirmed'])*100,2),\"ReportedDate\": data['Date']},\n",
        "    index = [1])\n",
        "        \n",
        "    DataFrame_CovidSummary = pd.DataFrame([dict(Country=datum['Country'],\n",
        "                        NewConfirmed=datum['NewConfirmed'],\n",
        "                        TotalConfirmed=datum['TotalConfirmed'],\n",
        "                        NewDeaths=datum['NewDeaths'],\n",
        "                        TotalDeaths=datum['TotalDeaths'],\n",
        "                        NewRecovered=datum['NewRecovered'],\n",
        "                        TotalRecovered=datum['TotalRecovered'],\n",
        "                        Date= datum['Date']\n",
        "                        )\n",
        "                   for datum in data['Countries']])\n",
        "\n",
        "\n",
        "    Recovered = [] \n",
        "    for TotalRecovered, TotalConfirmed in zip(DataFrame_CovidSummary['TotalRecovered'], DataFrame_CovidSummary['TotalConfirmed']):\n",
        "        RecoveredPercent = (TotalRecovered/TotalConfirmed)*100\n",
        "        Recovered.append(round(RecoveredPercent,2))\n",
        "\n",
        "    DataFrame_CovidSummary[\"PercentOfRecovery\"] = Recovered\n",
        "    \n",
        "    \n",
        "    Death = [] \n",
        "    for TotalDeath, TotalConfirmed in zip(DataFrame_CovidSummary['TotalDeaths'], DataFrame_CovidSummary['TotalConfirmed']):\n",
        "        RecoveredDeath = (TotalDeath/TotalConfirmed)*100\n",
        "        Death.append(round(RecoveredDeath,2))\n",
        "\n",
        "    DataFrame_CovidSummary[\"PercentOfDeath\"] = Death\n",
        "    \n",
        "\n",
        "\n",
        "# Api for covide data for all countries\n",
        "app = Flask(__name__)\n",
        "@app.route('/CovideTotalSummary')\n",
        "def index():\n",
        "    return DataFrame_CovidSummary.sort_values(by=['TotalConfirmed'], ascending=False).to_json(orient='records')\n",
        "\n",
        "# Api for covide data country wise\n",
        "@app.route('/CovideSummary/Country', methods = ['GET'])\n",
        "def index2():\n",
        "    Country = request.args.get('Country')\n",
        "    print(Country)\n",
        "      \n",
        "    return DataFrame_CovidSummary.loc[DataFrame_CovidSummary.Country == Country ].to_json(orient='records')\n",
        "\n",
        "\n",
        "#Api for covide data  based on % of recovery\n",
        "@app.route('/CovideSummary/Recovery', methods = ['GET'])\n",
        "def index3():\n",
        "    PercentOfRecovery = request.args.get('PercentOfRecovery')\n",
        "    Mode = request.args.get('Mode')\n",
        "    print(PercentOfRecovery)\n",
        "    print(Mode)\n",
        "    \n",
        "    if Mode.lower() == 'greaterthan':\n",
        "        return DataFrame_CovidSummary.loc[DataFrame_CovidSummary.PercentOfRecovery >= int(PercentOfRecovery) ].to_json(orient='records')\n",
        "    elif Mode.lower() =='lessthan': \n",
        "        return DataFrame_CovidSummary.loc[DataFrame_CovidSummary.PercentOfRecovery <= int(PercentOfRecovery) ].to_json(orient='records')\n",
        "    \n",
        "#Api for covide data  based on % of death\n",
        "@app.route('/CovideSummary/Death', methods = ['GET'])\n",
        "def index4():\n",
        "    PercentOfDeath = request.args.get('PercentOfDeath')\n",
        "    Mode = request.args.get('Mode')\n",
        "    print(PercentOfDeath)\n",
        "    print(Mode)\n",
        "    \n",
        "    if Mode.lower() == 'greaterthan':\n",
        "        return DataFrame_CovidSummary.loc[DataFrame_CovidSummary.PercentOfDeath >= int(PercentOfDeath) ].to_json(orient='records')\n",
        "    elif Mode.lower() =='lessthan': \n",
        "        return DataFrame_CovidSummary.loc[DataFrame_CovidSummary.PercentOfDeath <= int(PercentOfDeath) ].to_json(orient='records')\n",
        "\n",
        "\n",
        "#Api for list of countries   \n",
        "@app.route('/CovideSummary/ListOfCountries')\n",
        "def index5():\n",
        "    return DataFrame_Country.to_json(orient='values')\n",
        "\n",
        "\n",
        "# Api for top affected countries\n",
        "@app.route('/CovideSummary/Top_affectedCountries', methods = ['GET'])\n",
        "def index6():\n",
        "    TopCount = request.args.get('Top')\n",
        "    DataFrame_CovidSummaryTop_Countries = DataFrame_CovidSummary[['Country','TotalConfirmed', 'TotalDeaths']].sort_values(by=['TotalConfirmed'], ascending=False )\n",
        "    return DataFrame_CovidSummaryTop_Countries[:int(TopCount)].to_json(orient='records')\n",
        "\n",
        "\n",
        "    \n",
        "if __name__ == '__main__':\n",
        "    app.run(host='127.0.0.1', port='8050', debug=False)\n"
      ],
      "execution_count": null,
      "outputs": [
        {
          "output_type": "error",
          "ename": "NameError",
          "evalue": "name 'Countrydata' is not defined",
          "traceback": [
            "\u001b[1;31m---------------------------------------------------------------------------\u001b[0m",
            "\u001b[1;31mNameError\u001b[0m                                 Traceback (most recent call last)",
            "\u001b[1;32m<ipython-input-3-2416793985e0>\u001b[0m in \u001b[0;36m<module>\u001b[1;34m\u001b[0m\n\u001b[0;32m      5\u001b[0m \u001b[1;33m\u001b[0m\u001b[0m\n\u001b[0;32m      6\u001b[0m DataFrame_Country = pd.DataFrame([dict(Country=datum['Country'])\n\u001b[1;32m----> 7\u001b[1;33m                    for datum in Countrydata ])\n\u001b[0m\u001b[0;32m      8\u001b[0m \u001b[1;33m\u001b[0m\u001b[0m\n\u001b[0;32m      9\u001b[0m \u001b[1;33m\u001b[0m\u001b[0m\n",
            "\u001b[1;31mNameError\u001b[0m: name 'Countrydata' is not defined"
          ]
        }
      ]
    },
    {
      "cell_type": "code",
      "metadata": {
        "id": "0F7y0NRDvOgT",
        "colab_type": "code",
        "colab": {}
      },
      "source": [
        ""
      ],
      "execution_count": null,
      "outputs": []
    },
    {
      "cell_type": "code",
      "metadata": {
        "id": "QJQhWXxJvOgX",
        "colab_type": "code",
        "colab": {}
      },
      "source": [
        ""
      ],
      "execution_count": null,
      "outputs": []
    }
  ]
}